{
 "cells": [
  {
   "cell_type": "markdown",
   "metadata": {},
   "source": [
    "# Use pandas-datareader Package to Get Financial Information"
   ]
  },
  {
   "cell_type": "code",
   "execution_count": null,
   "metadata": {},
   "outputs": [],
   "source": [
    "#install the package\n",
    "!pip install pandas_datareader"
   ]
  },
  {
   "cell_type": "code",
   "execution_count": 1,
   "metadata": {},
   "outputs": [],
   "source": [
    "#import packages\n",
    "import pandas as pd\n",
    "import pandas_datareader as pdr\n",
    "\n",
    "from pandas_datareader import data, wb"
   ]
  },
  {
   "cell_type": "markdown",
   "metadata": {},
   "source": [
    "## 1. Get the list of stocks in Toronto Stock Exchange\n",
    "The listings of TSX/TSXV has been downloaded from the following link:  \n",
    "https://www.google.com/url?sa=t&rct=j&q=&esrc=s&source=web&cd=11&ved=2ahUKEwjC8Kf7jY3lAhVQh-AKHY1mBGYQFjAKegQIARAC&url=https%3A%2F%2Fwww.tsx.com%2Fresource%2Fen%2F571&usg=AOvVaw0t7ZrObTwMOVfTAbPG9YRQ"
   ]
  },
  {
   "cell_type": "code",
   "execution_count": 99,
   "metadata": {},
   "outputs": [],
   "source": [
    "listings = pd.read_csv(\"tsx-andamp-tsxv-listed-companies-2019-09-13-en.csv\", \n",
    "                       parse_dates=['Date of \\nTSX Listing\\nYYYYMMDD'])"
   ]
  },
  {
   "cell_type": "code",
   "execution_count": 100,
   "metadata": {},
   "outputs": [
    {
     "data": {
      "text/html": [
       "<div>\n",
       "<style scoped>\n",
       "    .dataframe tbody tr th:only-of-type {\n",
       "        vertical-align: middle;\n",
       "    }\n",
       "\n",
       "    .dataframe tbody tr th {\n",
       "        vertical-align: top;\n",
       "    }\n",
       "\n",
       "    .dataframe thead th {\n",
       "        text-align: right;\n",
       "    }\n",
       "</style>\n",
       "<table border=\"1\" class=\"dataframe\">\n",
       "  <thead>\n",
       "    <tr style=\"text-align: right;\">\n",
       "      <th></th>\n",
       "      <th>Co_ID</th>\n",
       "      <th>Exchange</th>\n",
       "      <th>Name</th>\n",
       "      <th>Root\n",
       "Ticker</th>\n",
       "      <th>QMV(C$)\n",
       "31-August-2019</th>\n",
       "      <th>O/S Shares\n",
       "31-August-2019</th>\n",
       "      <th>Sector</th>\n",
       "      <th>Sub\n",
       "Sector</th>\n",
       "      <th>Listing Type</th>\n",
       "      <th>Date of \n",
       "TSX Listing\n",
       "YYYYMMDD</th>\n",
       "      <th>...</th>\n",
       "      <th>Zinc</th>\n",
       "      <th>Rare Earths</th>\n",
       "      <th>Potash</th>\n",
       "      <th>Lithium</th>\n",
       "      <th>Uranium</th>\n",
       "      <th>Coal</th>\n",
       "      <th>Tungsten</th>\n",
       "      <th>Base &amp; Precious Metals</th>\n",
       "      <th>Mineral Properties (General)</th>\n",
       "      <th>Other Properties</th>\n",
       "    </tr>\n",
       "  </thead>\n",
       "  <tbody>\n",
       "    <tr>\n",
       "      <th>0</th>\n",
       "      <td>FIV0003</td>\n",
       "      <td>TSX</td>\n",
       "      <td>5N Plus Inc.</td>\n",
       "      <td>VNP</td>\n",
       "      <td>195,022,756</td>\n",
       "      <td>83,343,058</td>\n",
       "      <td>Clean Technology</td>\n",
       "      <td>NaN</td>\n",
       "      <td>IPO</td>\n",
       "      <td>2007-12-19</td>\n",
       "      <td>...</td>\n",
       "      <td>NaN</td>\n",
       "      <td>NaN</td>\n",
       "      <td>NaN</td>\n",
       "      <td>NaN</td>\n",
       "      <td>NaN</td>\n",
       "      <td>NaN</td>\n",
       "      <td>NaN</td>\n",
       "      <td>NaN</td>\n",
       "      <td>NaN</td>\n",
       "      <td>NaN</td>\n",
       "    </tr>\n",
       "    <tr>\n",
       "      <th>1</th>\n",
       "      <td>AAW0001</td>\n",
       "      <td>TSX</td>\n",
       "      <td>A&amp;W Revenue Royalties Income Fund</td>\n",
       "      <td>AW</td>\n",
       "      <td>571,728,957</td>\n",
       "      <td>14,064,673</td>\n",
       "      <td>Consumer Products &amp; Services</td>\n",
       "      <td>NaN</td>\n",
       "      <td>NaN</td>\n",
       "      <td>2002-02-14</td>\n",
       "      <td>...</td>\n",
       "      <td>NaN</td>\n",
       "      <td>NaN</td>\n",
       "      <td>NaN</td>\n",
       "      <td>NaN</td>\n",
       "      <td>NaN</td>\n",
       "      <td>NaN</td>\n",
       "      <td>NaN</td>\n",
       "      <td>NaN</td>\n",
       "      <td>NaN</td>\n",
       "      <td>NaN</td>\n",
       "    </tr>\n",
       "    <tr>\n",
       "      <th>2</th>\n",
       "      <td>FIR0005</td>\n",
       "      <td>TSX</td>\n",
       "      <td>Aberdeen Asia-Pacific Income Investment Compan...</td>\n",
       "      <td>FAP</td>\n",
       "      <td>177,851,156</td>\n",
       "      <td>50,814,616</td>\n",
       "      <td>Closed-End Funds</td>\n",
       "      <td>NaN</td>\n",
       "      <td>NaN</td>\n",
       "      <td>1986-06-11</td>\n",
       "      <td>...</td>\n",
       "      <td>NaN</td>\n",
       "      <td>NaN</td>\n",
       "      <td>NaN</td>\n",
       "      <td>NaN</td>\n",
       "      <td>NaN</td>\n",
       "      <td>NaN</td>\n",
       "      <td>NaN</td>\n",
       "      <td>NaN</td>\n",
       "      <td>NaN</td>\n",
       "      <td>NaN</td>\n",
       "    </tr>\n",
       "    <tr>\n",
       "      <th>3</th>\n",
       "      <td>ABE0005</td>\n",
       "      <td>TSX</td>\n",
       "      <td>Aberdeen International Inc.</td>\n",
       "      <td>AAB</td>\n",
       "      <td>4,802,614</td>\n",
       "      <td>96,052,282</td>\n",
       "      <td>Financial Services</td>\n",
       "      <td>NaN</td>\n",
       "      <td>TSXV Grad</td>\n",
       "      <td>2008-01-30</td>\n",
       "      <td>...</td>\n",
       "      <td>NaN</td>\n",
       "      <td>NaN</td>\n",
       "      <td>NaN</td>\n",
       "      <td>NaN</td>\n",
       "      <td>NaN</td>\n",
       "      <td>NaN</td>\n",
       "      <td>NaN</td>\n",
       "      <td>NaN</td>\n",
       "      <td>NaN</td>\n",
       "      <td>NaN</td>\n",
       "    </tr>\n",
       "    <tr>\n",
       "      <th>4</th>\n",
       "      <td>ABS0003</td>\n",
       "      <td>TSX</td>\n",
       "      <td>Absolute Software Corporation</td>\n",
       "      <td>ABT</td>\n",
       "      <td>328,576,276</td>\n",
       "      <td>41,697,497</td>\n",
       "      <td>Technology</td>\n",
       "      <td>NaN</td>\n",
       "      <td>TSXV Grad</td>\n",
       "      <td>2005-12-02</td>\n",
       "      <td>...</td>\n",
       "      <td>NaN</td>\n",
       "      <td>NaN</td>\n",
       "      <td>NaN</td>\n",
       "      <td>NaN</td>\n",
       "      <td>NaN</td>\n",
       "      <td>NaN</td>\n",
       "      <td>NaN</td>\n",
       "      <td>NaN</td>\n",
       "      <td>NaN</td>\n",
       "      <td>NaN</td>\n",
       "    </tr>\n",
       "  </tbody>\n",
       "</table>\n",
       "<p>5 rows × 66 columns</p>\n",
       "</div>"
      ],
      "text/plain": [
       "     Co_ID Exchange                                               Name  \\\n",
       "0  FIV0003      TSX                                       5N Plus Inc.   \n",
       "1  AAW0001      TSX                  A&W Revenue Royalties Income Fund   \n",
       "2  FIR0005      TSX  Aberdeen Asia-Pacific Income Investment Compan...   \n",
       "3  ABE0005      TSX                        Aberdeen International Inc.   \n",
       "4  ABS0003      TSX                      Absolute Software Corporation   \n",
       "\n",
       "  Root\\nTicker  QMV(C$)\\n31-August-2019   O/S Shares\\n31-August-2019   \\\n",
       "0          VNP              195,022,756                   83,343,058    \n",
       "1           AW              571,728,957                   14,064,673    \n",
       "2          FAP              177,851,156                   50,814,616    \n",
       "3          AAB                4,802,614                   96,052,282    \n",
       "4          ABT              328,576,276                   41,697,497    \n",
       "\n",
       "                           Sector Sub\\nSector Listing Type  \\\n",
       "0               Clean Technology          NaN          IPO   \n",
       "1   Consumer Products & Services          NaN          NaN   \n",
       "2               Closed-End Funds          NaN          NaN   \n",
       "3             Financial Services          NaN    TSXV Grad   \n",
       "4                     Technology          NaN    TSXV Grad   \n",
       "\n",
       "  Date of \\nTSX Listing\\nYYYYMMDD  ... Zinc Rare Earths Potash Lithium  \\\n",
       "0                      2007-12-19  ...  NaN         NaN    NaN     NaN   \n",
       "1                      2002-02-14  ...  NaN         NaN    NaN     NaN   \n",
       "2                      1986-06-11  ...  NaN         NaN    NaN     NaN   \n",
       "3                      2008-01-30  ...  NaN         NaN    NaN     NaN   \n",
       "4                      2005-12-02  ...  NaN         NaN    NaN     NaN   \n",
       "\n",
       "  Uranium  Coal  Tungsten  Base & Precious Metals  \\\n",
       "0     NaN   NaN       NaN                     NaN   \n",
       "1     NaN   NaN       NaN                     NaN   \n",
       "2     NaN   NaN       NaN                     NaN   \n",
       "3     NaN   NaN       NaN                     NaN   \n",
       "4     NaN   NaN       NaN                     NaN   \n",
       "\n",
       "  Mineral Properties (General) Other Properties  \n",
       "0                          NaN              NaN  \n",
       "1                          NaN              NaN  \n",
       "2                          NaN              NaN  \n",
       "3                          NaN              NaN  \n",
       "4                          NaN              NaN  \n",
       "\n",
       "[5 rows x 66 columns]"
      ]
     },
     "execution_count": 100,
     "metadata": {},
     "output_type": "execute_result"
    }
   ],
   "source": [
    "listings.head()"
   ]
  },
  {
   "cell_type": "code",
   "execution_count": 101,
   "metadata": {},
   "outputs": [
    {
     "data": {
      "text/plain": [
       "Index(['Co_ID', 'Exchange', 'Name', 'Root\\nTicker',\n",
       "       ' QMV(C$)\\n31-August-2019 ', ' O/S Shares\\n31-August-2019 ', 'Sector',\n",
       "       'Sub\\nSector', 'Listing Type', 'Date of \\nTSX Listing\\nYYYYMMDD',\n",
       "       'HQ\\nLocation', 'HQ\\nRegion', 'Interlisted\\nCode_I',\n",
       "       'Interlisted\\nCode_II', 'Listed on OTC', 'TSX \\nVenture \\nGrad',\n",
       "       'Former\\nCPC', 'Index', 'Clean Technology Primary Industry',\n",
       "       'Clean Technology Sub-Sector', 'Technology Sub-Sector ',\n",
       "       'Consumer Products & Services\\nSub-Sector', 'Real Estate Sub-Sector ',\n",
       "       'Life Sciences Sub-Sector', 'USA_City', 'USA_State', 'Asia Region',\n",
       "       'Israel Related', 'Place of Incorporation\\nC=Canada\\nU=USA\\nF=Foreign',\n",
       "       'Fund Family', 'SP Grouping', 'SP_Type', 'SP_Sub',\n",
       "       'Income Trust \\nConversion', ' Volume YTD\\n31-August-2019 ',\n",
       "       ' Value (C$) YTD\\n31-August-2019 ',\n",
       "       ' Number of \\nTrades YTD\\n31-August-2019 ',\n",
       "       ' Number of\\nMonths of \\nTrading Data ', 'AFRICA', 'AUS/NZ/PNG',\n",
       "       'CANADA', 'CHINA & ASIA', 'LATIN AMERICA', 'OTHER', 'UK/EUROPE', 'USA',\n",
       "       'Oil and Gas', 'Gold', 'Silver', 'Copper', 'Nickel', 'Diamond',\n",
       "       'Molybdenum', 'Platinum/PGM', 'Iron', 'Lead', 'Zinc', 'Rare Earths',\n",
       "       'Potash', 'Lithium', 'Uranium', 'Coal', 'Tungsten',\n",
       "       'Base & Precious Metals', 'Mineral Properties (General)',\n",
       "       'Other Properties'],\n",
       "      dtype='object')"
      ]
     },
     "execution_count": 101,
     "metadata": {},
     "output_type": "execute_result"
    }
   ],
   "source": [
    "listings.columns"
   ]
  },
  {
   "cell_type": "markdown",
   "metadata": {},
   "source": [
    "  \n",
    "    \n",
    "The Ticker of National Bank of Canada is \"NA\", and it was read as NaN by pandas read_csv methods. Here we fixed it manually."
   ]
  },
  {
   "cell_type": "code",
   "execution_count": 102,
   "metadata": {},
   "outputs": [
    {
     "data": {
      "text/html": [
       "<div>\n",
       "<style scoped>\n",
       "    .dataframe tbody tr th:only-of-type {\n",
       "        vertical-align: middle;\n",
       "    }\n",
       "\n",
       "    .dataframe tbody tr th {\n",
       "        vertical-align: top;\n",
       "    }\n",
       "\n",
       "    .dataframe thead th {\n",
       "        text-align: right;\n",
       "    }\n",
       "</style>\n",
       "<table border=\"1\" class=\"dataframe\">\n",
       "  <thead>\n",
       "    <tr style=\"text-align: right;\">\n",
       "      <th></th>\n",
       "      <th>Co_ID</th>\n",
       "      <th>Exchange</th>\n",
       "      <th>Name</th>\n",
       "      <th>Root\n",
       "Ticker</th>\n",
       "      <th>QMV(C$)\n",
       "31-August-2019</th>\n",
       "      <th>O/S Shares\n",
       "31-August-2019</th>\n",
       "      <th>Sector</th>\n",
       "      <th>Sub\n",
       "Sector</th>\n",
       "      <th>Listing Type</th>\n",
       "      <th>Date of \n",
       "TSX Listing\n",
       "YYYYMMDD</th>\n",
       "      <th>...</th>\n",
       "      <th>Zinc</th>\n",
       "      <th>Rare Earths</th>\n",
       "      <th>Potash</th>\n",
       "      <th>Lithium</th>\n",
       "      <th>Uranium</th>\n",
       "      <th>Coal</th>\n",
       "      <th>Tungsten</th>\n",
       "      <th>Base &amp; Precious Metals</th>\n",
       "      <th>Mineral Properties (General)</th>\n",
       "      <th>Other Properties</th>\n",
       "    </tr>\n",
       "  </thead>\n",
       "  <tbody>\n",
       "    <tr>\n",
       "      <th>1086</th>\n",
       "      <td>NAT0002</td>\n",
       "      <td>TSX</td>\n",
       "      <td>National Bank of Canada</td>\n",
       "      <td>NaN</td>\n",
       "      <td>22,993,740,736</td>\n",
       "      <td>433,577,427</td>\n",
       "      <td>Financial Services</td>\n",
       "      <td>NaN</td>\n",
       "      <td>NaN</td>\n",
       "      <td>1979-11-01</td>\n",
       "      <td>...</td>\n",
       "      <td>NaN</td>\n",
       "      <td>NaN</td>\n",
       "      <td>NaN</td>\n",
       "      <td>NaN</td>\n",
       "      <td>NaN</td>\n",
       "      <td>NaN</td>\n",
       "      <td>NaN</td>\n",
       "      <td>NaN</td>\n",
       "      <td>NaN</td>\n",
       "      <td>NaN</td>\n",
       "    </tr>\n",
       "  </tbody>\n",
       "</table>\n",
       "<p>1 rows × 66 columns</p>\n",
       "</div>"
      ],
      "text/plain": [
       "        Co_ID Exchange                     Name Root\\nTicker  \\\n",
       "1086  NAT0002      TSX  National Bank of Canada          NaN   \n",
       "\n",
       "      QMV(C$)\\n31-August-2019   O/S Shares\\n31-August-2019   \\\n",
       "1086           22,993,740,736                  433,577,427    \n",
       "\n",
       "                    Sector Sub\\nSector Listing Type  \\\n",
       "1086   Financial Services          NaN          NaN   \n",
       "\n",
       "     Date of \\nTSX Listing\\nYYYYMMDD  ... Zinc Rare Earths Potash Lithium  \\\n",
       "1086                      1979-11-01  ...  NaN         NaN    NaN     NaN   \n",
       "\n",
       "     Uranium  Coal  Tungsten  Base & Precious Metals  \\\n",
       "1086     NaN   NaN       NaN                     NaN   \n",
       "\n",
       "     Mineral Properties (General) Other Properties  \n",
       "1086                          NaN              NaN  \n",
       "\n",
       "[1 rows x 66 columns]"
      ]
     },
     "execution_count": 102,
     "metadata": {},
     "output_type": "execute_result"
    }
   ],
   "source": [
    "listings[listings['Root\\nTicker'].apply(lambda x: type(x)) == float]"
   ]
  },
  {
   "cell_type": "code",
   "execution_count": 103,
   "metadata": {},
   "outputs": [],
   "source": [
    "listings.loc[listings.Co_ID == 'NAT0002', 'Root\\nTicker'] = 'NA'"
   ]
  },
  {
   "cell_type": "markdown",
   "metadata": {},
   "source": [
    "Only keep a few key columns and rename them. Change data types accordingly."
   ]
  },
  {
   "cell_type": "code",
   "execution_count": 104,
   "metadata": {},
   "outputs": [],
   "source": [
    "keep_cols = ['Exchange', 'Name', 'Root\\nTicker',\n",
    "       ' QMV(C$)\\n31-August-2019 ', 'Sector','Date of \\nTSX Listing\\nYYYYMMDD']\n",
    "listings = listings[keep_cols]\n",
    "listings.columns = ['exchange', 'name', 'ticker',\n",
    "       'market_value', 'sector','date_of_listing']"
   ]
  },
  {
   "cell_type": "code",
   "execution_count": 108,
   "metadata": {},
   "outputs": [],
   "source": [
    "listings['exchange']= listings['exchange'].apply(lambda x: x.strip())\n",
    "listings['name']= listings['name'].apply(lambda x: x.strip())\n",
    "listings['ticker']= listings['ticker'].apply(lambda x: x.strip())\n",
    "listings['sector']= listings['sector'].apply(lambda x: x.strip())\n",
    "listings['market_value']= listings['market_value'].apply(\n",
    "    lambda x: x.strip()).apply(lambda x: x.replace(',',''))\n",
    "                                             \n",
    "listings['market_value'] = pd.to_numeric(listings['market_value'])\n",
    "\n",
    "listings.set_index('ticker', inplace = True)"
   ]
  },
  {
   "cell_type": "markdown",
   "metadata": {},
   "source": [
    "Remove the ETPs (Exchange-Traded Products) cause they have different data structures as the regular company's stocks."
   ]
  },
  {
   "cell_type": "code",
   "execution_count": 109,
   "metadata": {},
   "outputs": [
    {
     "data": {
      "text/plain": [
       "ETP                               680\n",
       "Mining                            213\n",
       "Industrial Products & Services    123\n",
       "Closed-End Funds                   92\n",
       "Financial Services                 73\n",
       "Oil & Gas                          70\n",
       "Consumer Products & Services       70\n",
       "Real Estate                        61\n",
       "Life Sciences                      56\n",
       "Technology                         51\n",
       "Clean Technology                   31\n",
       "Comm & Media                       23\n",
       "Utilities & Pipelines              21\n",
       "SPAC                                2\n",
       "Name: sector, dtype: int64"
      ]
     },
     "execution_count": 109,
     "metadata": {},
     "output_type": "execute_result"
    }
   ],
   "source": [
    "listings.sector.value_counts()"
   ]
  },
  {
   "cell_type": "markdown",
   "metadata": {},
   "source": [
    "Save to csv file for future use."
   ]
  },
  {
   "cell_type": "code",
   "execution_count": 120,
   "metadata": {},
   "outputs": [],
   "source": [
    "listings[(listings.sector != 'ETP') & (listings.date_of_listing < '2004')].to_csv('TSX_listing_2004.csv')"
   ]
  },
  {
   "cell_type": "code",
   "execution_count": null,
   "metadata": {},
   "outputs": [],
   "source": []
  }
 ],
 "metadata": {
  "kernelspec": {
   "display_name": "Python 3",
   "language": "python",
   "name": "python3"
  },
  "language_info": {
   "codemirror_mode": {
    "name": "ipython",
    "version": 3
   },
   "file_extension": ".py",
   "mimetype": "text/x-python",
   "name": "python",
   "nbconvert_exporter": "python",
   "pygments_lexer": "ipython3",
   "version": "3.7.3"
  }
 },
 "nbformat": 4,
 "nbformat_minor": 2
}
