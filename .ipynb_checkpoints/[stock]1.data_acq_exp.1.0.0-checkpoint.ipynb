{
 "cells": [
  {
   "cell_type": "markdown",
   "metadata": {},
   "source": [
    "# Project: Predicting Stock Price & Return  \n",
    "## 1. Data acquisition and initial exploration  \n",
    "Data source include: Alphavantage free API, Bank of Canada, Google Trends"
   ]
  },
  {
   "cell_type": "markdown",
   "metadata": {},
   "source": [
    "Ver. 1.0  \n",
    "Remove unecessary content  \n",
    "\n",
    "Ver. 0.1  \n",
    "Set the data structure and save for next step\n",
    "\n",
    "Ver. 0.0.1  \n",
    "Try various data sources and find the free ones that work"
   ]
  },
  {
   "cell_type": "markdown",
   "metadata": {},
   "source": [
    "#### 0. Import packages"
   ]
  },
  {
   "cell_type": "code",
   "execution_count": 1,
   "metadata": {},
   "outputs": [],
   "source": [
    "#import packages\n",
    "import pandas as pd\n",
    "import matplotlib.pyplot as plt\n",
    "import seaborn as sns\n",
    "from datetime import date\n",
    "\n",
    "\n",
    "import pandas_datareader as pdr\n",
    "from pandas_datareader import DataReader\n",
    "from pandas_datareader.bankofcanada import BankOfCanadaReader\n",
    "\n",
    "import requests\n",
    "from time import sleep"
   ]
  },
  {
   "cell_type": "code",
   "execution_count": 2,
   "metadata": {},
   "outputs": [],
   "source": [
    "#let the notebook display full length of the data columns\n",
    "pd.set_option('display.max_columns', None)  \n",
    "pd.set_option('display.expand_frame_repr', False)\n",
    "pd.set_option('max_colwidth', -1)"
   ]
  },
  {
   "cell_type": "markdown",
   "metadata": {},
   "source": [
    "#### 1. Read the stock prices of Loblaw Companies Ltd, competitors and indices"
   ]
  },
  {
   "cell_type": "code",
   "execution_count": 3,
   "metadata": {},
   "outputs": [],
   "source": [
    "def get_stock(symbol):\n",
    "    '''\n",
    "    Get stock daily adjuested close price and volume using alphavantage API\n",
    "    '''\n",
    "    apikey = \"39ID5KS0RJQLNZGL\"\n",
    "    base_url = \"https://www.alphavantage.co/query?\"\n",
    "    function = \"TIME_SERIES_DAILY_ADJUSTED\"\n",
    "    outputsize = \"full\"\n",
    "    \n",
    "    #construct the api url\n",
    "    url = base_url + \"function={}&symbol={}&outputsize={}&apikey={}\".format(\n",
    "    function, symbol, outputsize, apikey)\n",
    "\n",
    "    r = requests.get(url)\n",
    "    \n",
    "    #parse the result, change the datatypes \n",
    "    try:\n",
    "        df = pd.DataFrame(r.json()['Time Series (Daily)']).transpose(\n",
    "            )[['5. adjusted close','6. volume']].reset_index()\n",
    "    except:\n",
    "        print(\"Cannot get stock price\")\n",
    "        return None\n",
    "    df.columns = ['date','price','volume']\n",
    "    df['date'] = pd.to_datetime(df['date'])\n",
    "    df['price'] = pd.to_numeric(df['price'])\n",
    "    df['volume'] = pd.to_numeric(df['volume'])\n",
    "    df = df.set_index('date')\n",
    "    \n",
    "    print(\"Successfully read stock price: {}, from {} to {}\".format(symbol, df.index[-1], df.index[0]))\n",
    "    return df"
   ]
  },
  {
   "cell_type": "code",
   "execution_count": 5,
   "metadata": {},
   "outputs": [
    {
     "name": "stdout",
     "output_type": "stream",
     "text": [
      "Successfully read stock price: TSX:L, from 2000-01-04 00:00:00 to 2019-10-25 00:00:00\n"
     ]
    }
   ],
   "source": [
    "#Loblaw Companies Limited is the largest Canadian food retailer\n",
    "loblaw = get_stock(\"TSX:L\")"
   ]
  },
  {
   "cell_type": "code",
   "execution_count": 6,
   "metadata": {},
   "outputs": [
    {
     "name": "stdout",
     "output_type": "stream",
     "text": [
      "Successfully read stock price: TSX:MRU, from 2000-01-03 00:00:00 to 2019-10-25 00:00:00\n"
     ]
    }
   ],
   "source": [
    "#Metro Inc., a Canadian food retailer \n",
    "metro = get_stock(\"TSX:MRU\")"
   ]
  },
  {
   "cell_type": "code",
   "execution_count": 7,
   "metadata": {},
   "outputs": [
    {
     "name": "stdout",
     "output_type": "stream",
     "text": [
      "Successfully read stock price: EMP-A.TO, from 2000-01-03 00:00:00 to 2019-10-25 00:00:00\n"
     ]
    }
   ],
   "source": [
    "#Empire Company Limited, the parent company of Sobeys, another Canadian food retailer\n",
    "empa = get_stock(\"EMP-A.TO\")"
   ]
  },
  {
   "cell_type": "code",
   "execution_count": 8,
   "metadata": {},
   "outputs": [
    {
     "name": "stdout",
     "output_type": "stream",
     "text": [
      "Successfully read stock price: TSE:WN, from 2000-01-04 00:00:00 to 2019-10-25 00:00:00\n"
     ]
    }
   ],
   "source": [
    "#George Weston Limited, a Canadian food processing and distribution company\n",
    "gwl = get_stock(\"TSE:WN\")"
   ]
  },
  {
   "cell_type": "code",
   "execution_count": 9,
   "metadata": {},
   "outputs": [
    {
     "name": "stdout",
     "output_type": "stream",
     "text": [
      "Successfully read stock price: ATD-B.TO, from 2000-01-03 00:00:00 to 2019-10-25 00:00:00\n"
     ]
    }
   ],
   "source": [
    "#Alimentation Couche-Tard, a Candian multinational operator of convenience stores\n",
    "atd = get_stock(\"ATD-B.TO\")"
   ]
  },
  {
   "cell_type": "code",
   "execution_count": 25,
   "metadata": {},
   "outputs": [
    {
     "name": "stdout",
     "output_type": "stream",
     "text": [
      "Successfully read stock price: ^GSPTSE, from 2000-01-03 00:00:00 to 2019-10-25 00:00:00\n"
     ]
    }
   ],
   "source": [
    "#S&P/TSX composite index, the benchmark Canadian index representing roughly 70% of the total market capitalization of the TSE companies\n",
    "tsx = get_stock(\"^GSPTSE\")"
   ]
  },
  {
   "cell_type": "code",
   "execution_count": 26,
   "metadata": {},
   "outputs": [
    {
     "name": "stdout",
     "output_type": "stream",
     "text": [
      "Successfully read stock price: ^GSPC, from 2000-01-03 00:00:00 to 2019-10-25 00:00:00\n"
     ]
    }
   ],
   "source": [
    "#S&P500, the stock market index that measures the stock performance of 500 large companies listed on stock exchanges of the US\n",
    "sp500 = get_stock(\"^GSPC\")"
   ]
  },
  {
   "cell_type": "markdown",
   "metadata": {},
   "source": [
    "#### 2. Inspect the stock data\n",
    "\n",
    "Now we have the stocks' daily adjusted close price and volume from 2000-Jan to the 2019-Oct. DataFrame.info() and DataFrame.describe() shows that there is no N/A value in the data set. However, the price and volume could be zero in some specific days."
   ]
  },
  {
   "cell_type": "code",
   "execution_count": 27,
   "metadata": {},
   "outputs": [
    {
     "name": "stdout",
     "output_type": "stream",
     "text": [
      "<class 'pandas.core.frame.DataFrame'>\n",
      "DatetimeIndex: 5024 entries, 2019-10-25 to 2000-01-04\n",
      "Data columns (total 2 columns):\n",
      "price     5024 non-null float64\n",
      "volume    5024 non-null int64\n",
      "dtypes: float64(1), int64(1)\n",
      "memory usage: 117.8 KB\n",
      "None\n"
     ]
    }
   ],
   "source": [
    "print(loblaw.info())"
   ]
  },
  {
   "cell_type": "code",
   "execution_count": 28,
   "metadata": {},
   "outputs": [
    {
     "data": {
      "text/html": [
       "<div>\n",
       "<style scoped>\n",
       "    .dataframe tbody tr th:only-of-type {\n",
       "        vertical-align: middle;\n",
       "    }\n",
       "\n",
       "    .dataframe tbody tr th {\n",
       "        vertical-align: top;\n",
       "    }\n",
       "\n",
       "    .dataframe thead th {\n",
       "        text-align: right;\n",
       "    }\n",
       "</style>\n",
       "<table border=\"1\" class=\"dataframe\">\n",
       "  <thead>\n",
       "    <tr style=\"text-align: right;\">\n",
       "      <th></th>\n",
       "      <th>price</th>\n",
       "      <th>volume</th>\n",
       "    </tr>\n",
       "  </thead>\n",
       "  <tbody>\n",
       "    <tr>\n",
       "      <th>count</th>\n",
       "      <td>5024.000000</td>\n",
       "      <td>5.024000e+03</td>\n",
       "    </tr>\n",
       "    <tr>\n",
       "      <th>mean</th>\n",
       "      <td>35.614063</td>\n",
       "      <td>5.294897e+05</td>\n",
       "    </tr>\n",
       "    <tr>\n",
       "      <th>std</th>\n",
       "      <td>12.903062</td>\n",
       "      <td>5.919713e+05</td>\n",
       "    </tr>\n",
       "    <tr>\n",
       "      <th>min</th>\n",
       "      <td>0.000000</td>\n",
       "      <td>0.000000e+00</td>\n",
       "    </tr>\n",
       "    <tr>\n",
       "      <th>25%</th>\n",
       "      <td>26.301225</td>\n",
       "      <td>2.512000e+05</td>\n",
       "    </tr>\n",
       "    <tr>\n",
       "      <th>50%</th>\n",
       "      <td>32.526400</td>\n",
       "      <td>4.144500e+05</td>\n",
       "    </tr>\n",
       "    <tr>\n",
       "      <th>75%</th>\n",
       "      <td>44.075475</td>\n",
       "      <td>6.445000e+05</td>\n",
       "    </tr>\n",
       "    <tr>\n",
       "      <th>max</th>\n",
       "      <td>75.770000</td>\n",
       "      <td>1.482520e+07</td>\n",
       "    </tr>\n",
       "  </tbody>\n",
       "</table>\n",
       "</div>"
      ],
      "text/plain": [
       "             price        volume\n",
       "count  5024.000000  5.024000e+03\n",
       "mean   35.614063    5.294897e+05\n",
       "std    12.903062    5.919713e+05\n",
       "min    0.000000     0.000000e+00\n",
       "25%    26.301225    2.512000e+05\n",
       "50%    32.526400    4.144500e+05\n",
       "75%    44.075475    6.445000e+05\n",
       "max    75.770000    1.482520e+07"
      ]
     },
     "execution_count": 28,
     "metadata": {},
     "output_type": "execute_result"
    }
   ],
   "source": [
    "loblaw.describe()"
   ]
  },
  {
   "cell_type": "markdown",
   "metadata": {},
   "source": [
    "We notice that there are 0 values of price and volume in some days."
   ]
  },
  {
   "cell_type": "code",
   "execution_count": 29,
   "metadata": {},
   "outputs": [
    {
     "data": {
      "text/html": [
       "<div>\n",
       "<style scoped>\n",
       "    .dataframe tbody tr th:only-of-type {\n",
       "        vertical-align: middle;\n",
       "    }\n",
       "\n",
       "    .dataframe tbody tr th {\n",
       "        vertical-align: top;\n",
       "    }\n",
       "\n",
       "    .dataframe thead th {\n",
       "        text-align: right;\n",
       "    }\n",
       "</style>\n",
       "<table border=\"1\" class=\"dataframe\">\n",
       "  <thead>\n",
       "    <tr style=\"text-align: right;\">\n",
       "      <th></th>\n",
       "      <th>price</th>\n",
       "      <th>volume</th>\n",
       "    </tr>\n",
       "    <tr>\n",
       "      <th>date</th>\n",
       "      <th></th>\n",
       "      <th></th>\n",
       "    </tr>\n",
       "  </thead>\n",
       "  <tbody>\n",
       "    <tr>\n",
       "      <th>2004-12-28</th>\n",
       "      <td>0.0</td>\n",
       "      <td>0</td>\n",
       "    </tr>\n",
       "    <tr>\n",
       "      <th>2004-12-27</th>\n",
       "      <td>0.0</td>\n",
       "      <td>0</td>\n",
       "    </tr>\n",
       "    <tr>\n",
       "      <th>2004-10-11</th>\n",
       "      <td>0.0</td>\n",
       "      <td>0</td>\n",
       "    </tr>\n",
       "    <tr>\n",
       "      <th>2004-09-06</th>\n",
       "      <td>0.0</td>\n",
       "      <td>0</td>\n",
       "    </tr>\n",
       "    <tr>\n",
       "      <th>2004-08-02</th>\n",
       "      <td>0.0</td>\n",
       "      <td>0</td>\n",
       "    </tr>\n",
       "    <tr>\n",
       "      <th>2004-07-01</th>\n",
       "      <td>0.0</td>\n",
       "      <td>0</td>\n",
       "    </tr>\n",
       "    <tr>\n",
       "      <th>2004-05-24</th>\n",
       "      <td>0.0</td>\n",
       "      <td>0</td>\n",
       "    </tr>\n",
       "    <tr>\n",
       "      <th>2004-04-09</th>\n",
       "      <td>0.0</td>\n",
       "      <td>0</td>\n",
       "    </tr>\n",
       "    <tr>\n",
       "      <th>2004-01-01</th>\n",
       "      <td>0.0</td>\n",
       "      <td>0</td>\n",
       "    </tr>\n",
       "    <tr>\n",
       "      <th>2003-12-25</th>\n",
       "      <td>0.0</td>\n",
       "      <td>0</td>\n",
       "    </tr>\n",
       "    <tr>\n",
       "      <th>2003-10-13</th>\n",
       "      <td>0.0</td>\n",
       "      <td>0</td>\n",
       "    </tr>\n",
       "    <tr>\n",
       "      <th>2003-09-01</th>\n",
       "      <td>0.0</td>\n",
       "      <td>0</td>\n",
       "    </tr>\n",
       "    <tr>\n",
       "      <th>2003-08-04</th>\n",
       "      <td>0.0</td>\n",
       "      <td>0</td>\n",
       "    </tr>\n",
       "    <tr>\n",
       "      <th>2003-07-01</th>\n",
       "      <td>0.0</td>\n",
       "      <td>0</td>\n",
       "    </tr>\n",
       "    <tr>\n",
       "      <th>2003-05-19</th>\n",
       "      <td>0.0</td>\n",
       "      <td>0</td>\n",
       "    </tr>\n",
       "    <tr>\n",
       "      <th>2003-04-18</th>\n",
       "      <td>0.0</td>\n",
       "      <td>0</td>\n",
       "    </tr>\n",
       "    <tr>\n",
       "      <th>2003-01-01</th>\n",
       "      <td>0.0</td>\n",
       "      <td>0</td>\n",
       "    </tr>\n",
       "    <tr>\n",
       "      <th>2002-12-26</th>\n",
       "      <td>0.0</td>\n",
       "      <td>0</td>\n",
       "    </tr>\n",
       "    <tr>\n",
       "      <th>2002-12-25</th>\n",
       "      <td>0.0</td>\n",
       "      <td>0</td>\n",
       "    </tr>\n",
       "    <tr>\n",
       "      <th>2002-10-14</th>\n",
       "      <td>0.0</td>\n",
       "      <td>0</td>\n",
       "    </tr>\n",
       "    <tr>\n",
       "      <th>2002-09-02</th>\n",
       "      <td>0.0</td>\n",
       "      <td>0</td>\n",
       "    </tr>\n",
       "    <tr>\n",
       "      <th>2002-08-05</th>\n",
       "      <td>0.0</td>\n",
       "      <td>0</td>\n",
       "    </tr>\n",
       "    <tr>\n",
       "      <th>2002-07-01</th>\n",
       "      <td>0.0</td>\n",
       "      <td>0</td>\n",
       "    </tr>\n",
       "    <tr>\n",
       "      <th>2002-05-20</th>\n",
       "      <td>0.0</td>\n",
       "      <td>0</td>\n",
       "    </tr>\n",
       "    <tr>\n",
       "      <th>2002-03-29</th>\n",
       "      <td>0.0</td>\n",
       "      <td>0</td>\n",
       "    </tr>\n",
       "    <tr>\n",
       "      <th>2002-01-01</th>\n",
       "      <td>0.0</td>\n",
       "      <td>0</td>\n",
       "    </tr>\n",
       "    <tr>\n",
       "      <th>2001-12-26</th>\n",
       "      <td>0.0</td>\n",
       "      <td>0</td>\n",
       "    </tr>\n",
       "    <tr>\n",
       "      <th>2001-12-25</th>\n",
       "      <td>0.0</td>\n",
       "      <td>0</td>\n",
       "    </tr>\n",
       "    <tr>\n",
       "      <th>2001-10-08</th>\n",
       "      <td>0.0</td>\n",
       "      <td>0</td>\n",
       "    </tr>\n",
       "    <tr>\n",
       "      <th>2001-09-12</th>\n",
       "      <td>0.0</td>\n",
       "      <td>0</td>\n",
       "    </tr>\n",
       "    <tr>\n",
       "      <th>2001-09-11</th>\n",
       "      <td>0.0</td>\n",
       "      <td>0</td>\n",
       "    </tr>\n",
       "    <tr>\n",
       "      <th>2001-09-03</th>\n",
       "      <td>0.0</td>\n",
       "      <td>0</td>\n",
       "    </tr>\n",
       "    <tr>\n",
       "      <th>2001-08-06</th>\n",
       "      <td>0.0</td>\n",
       "      <td>0</td>\n",
       "    </tr>\n",
       "    <tr>\n",
       "      <th>2001-07-02</th>\n",
       "      <td>0.0</td>\n",
       "      <td>0</td>\n",
       "    </tr>\n",
       "    <tr>\n",
       "      <th>2001-05-21</th>\n",
       "      <td>0.0</td>\n",
       "      <td>0</td>\n",
       "    </tr>\n",
       "    <tr>\n",
       "      <th>2001-04-13</th>\n",
       "      <td>0.0</td>\n",
       "      <td>0</td>\n",
       "    </tr>\n",
       "    <tr>\n",
       "      <th>2001-01-01</th>\n",
       "      <td>0.0</td>\n",
       "      <td>0</td>\n",
       "    </tr>\n",
       "    <tr>\n",
       "      <th>2000-12-26</th>\n",
       "      <td>0.0</td>\n",
       "      <td>0</td>\n",
       "    </tr>\n",
       "    <tr>\n",
       "      <th>2000-12-25</th>\n",
       "      <td>0.0</td>\n",
       "      <td>0</td>\n",
       "    </tr>\n",
       "    <tr>\n",
       "      <th>2000-10-09</th>\n",
       "      <td>0.0</td>\n",
       "      <td>0</td>\n",
       "    </tr>\n",
       "    <tr>\n",
       "      <th>2000-09-04</th>\n",
       "      <td>0.0</td>\n",
       "      <td>0</td>\n",
       "    </tr>\n",
       "    <tr>\n",
       "      <th>2000-08-07</th>\n",
       "      <td>0.0</td>\n",
       "      <td>0</td>\n",
       "    </tr>\n",
       "    <tr>\n",
       "      <th>2000-07-03</th>\n",
       "      <td>0.0</td>\n",
       "      <td>0</td>\n",
       "    </tr>\n",
       "    <tr>\n",
       "      <th>2000-05-22</th>\n",
       "      <td>0.0</td>\n",
       "      <td>0</td>\n",
       "    </tr>\n",
       "    <tr>\n",
       "      <th>2000-04-21</th>\n",
       "      <td>0.0</td>\n",
       "      <td>0</td>\n",
       "    </tr>\n",
       "  </tbody>\n",
       "</table>\n",
       "</div>"
      ],
      "text/plain": [
       "            price  volume\n",
       "date                     \n",
       "2004-12-28  0.0    0     \n",
       "2004-12-27  0.0    0     \n",
       "2004-10-11  0.0    0     \n",
       "2004-09-06  0.0    0     \n",
       "2004-08-02  0.0    0     \n",
       "2004-07-01  0.0    0     \n",
       "2004-05-24  0.0    0     \n",
       "2004-04-09  0.0    0     \n",
       "2004-01-01  0.0    0     \n",
       "2003-12-25  0.0    0     \n",
       "2003-10-13  0.0    0     \n",
       "2003-09-01  0.0    0     \n",
       "2003-08-04  0.0    0     \n",
       "2003-07-01  0.0    0     \n",
       "2003-05-19  0.0    0     \n",
       "2003-04-18  0.0    0     \n",
       "2003-01-01  0.0    0     \n",
       "2002-12-26  0.0    0     \n",
       "2002-12-25  0.0    0     \n",
       "2002-10-14  0.0    0     \n",
       "2002-09-02  0.0    0     \n",
       "2002-08-05  0.0    0     \n",
       "2002-07-01  0.0    0     \n",
       "2002-05-20  0.0    0     \n",
       "2002-03-29  0.0    0     \n",
       "2002-01-01  0.0    0     \n",
       "2001-12-26  0.0    0     \n",
       "2001-12-25  0.0    0     \n",
       "2001-10-08  0.0    0     \n",
       "2001-09-12  0.0    0     \n",
       "2001-09-11  0.0    0     \n",
       "2001-09-03  0.0    0     \n",
       "2001-08-06  0.0    0     \n",
       "2001-07-02  0.0    0     \n",
       "2001-05-21  0.0    0     \n",
       "2001-04-13  0.0    0     \n",
       "2001-01-01  0.0    0     \n",
       "2000-12-26  0.0    0     \n",
       "2000-12-25  0.0    0     \n",
       "2000-10-09  0.0    0     \n",
       "2000-09-04  0.0    0     \n",
       "2000-08-07  0.0    0     \n",
       "2000-07-03  0.0    0     \n",
       "2000-05-22  0.0    0     \n",
       "2000-04-21  0.0    0     "
      ]
     },
     "execution_count": 29,
     "metadata": {},
     "output_type": "execute_result"
    }
   ],
   "source": [
    "loblaw[loblaw.price == 0]"
   ]
  },
  {
   "cell_type": "code",
   "execution_count": 31,
   "metadata": {},
   "outputs": [],
   "source": [
    "loblaw.to_csv(\"data/loblaw.csv\")\n",
    "metro.to_csv(\"data/metro.csv\")\n",
    "empa.to_csv(\"data/empa.csv\")\n",
    "gwl.to_csv(\"data/gwl.csv\")\n",
    "atd.to_csv(\"data/atd.csv\")\n",
    "tsx.to_csv(\"data/tsx.csv\")\n",
    "sp500.to_csv(\"data/sp500.csv\")"
   ]
  },
  {
   "cell_type": "markdown",
   "metadata": {},
   "source": [
    "#### 3. Get the important indices"
   ]
  },
  {
   "cell_type": "markdown",
   "metadata": {},
   "source": [
    "We can find the major economical indices through the API of bank of canada.   \n",
    "https://www.bankofcanada.ca/valet/docs  \n",
    "  \n",
    "base url = \"https://www.bankofcanada.ca/valet/\"\n",
    "\n",
    "To get the list of all groups: base url + \"/lists/groups\"  \n",
    "To get the list of all series: base url + \"/lists/series\"  \n",
    "To get the list of all series in a group: base url + \"groups/groupname\"  \n",
    "To get the date from a series: base url + \"observations/seriesname\"  \n",
    "\n",
    "Search for the key words in the group list, get the details, and retrieve the data using series name.\n",
    "\n",
    "We use the following indices:  \n",
    "series      |   groupname           |   description             |   date      \n",
    "FXUSDCAD    | FX_RATES_DAILY        |USD/CAD exchange rate  | 2017-1-1, 2019-10-11  \n",
    "IEXE0102    | LEGACY_CLOSING_RATES  |USD/CAD exchange rate  | 2007-5-1, 2019-4-30  \n",
    "V80691311   | CHARTED_BANK_INTEREST |prime rate             | 2000-1-1, 2019-10-11  \n",
    "V41690973   | CPI_MONTHLY           |consumer price index   | 2000-1, 2019-8  \n",
    "W.BCPI      | BCPI_WEEKLY           |business CPI           | 2000-1-1, 2019-9-25\n",
    "\n",
    "CEER - Canadian-dollar Effective Exchange Rate, formerly CERI - Canadian-dollar Effective Exchange Rate Index, was downloaded seperately from Bank of Canada website.  (1999-1-1 , 2019-10-11)\n",
    "\n",
    "https://www.bankofcanada.ca/rates/exchange/canadian-effective-exchange-rates/#Overview\n"
   ]
  },
  {
   "cell_type": "code",
   "execution_count": 32,
   "metadata": {},
   "outputs": [],
   "source": [
    "r = requests.get(\"https://www.bankofcanada.ca/valet/lists/groups/json\")\n",
    "grouplist = pd.DataFrame(r.json()['groups']).transpose()"
   ]
  },
  {
   "cell_type": "code",
   "execution_count": 33,
   "metadata": {},
   "outputs": [
    {
     "data": {
      "text/html": [
       "<div>\n",
       "<style scoped>\n",
       "    .dataframe tbody tr th:only-of-type {\n",
       "        vertical-align: middle;\n",
       "    }\n",
       "\n",
       "    .dataframe tbody tr th {\n",
       "        vertical-align: top;\n",
       "    }\n",
       "\n",
       "    .dataframe thead th {\n",
       "        text-align: right;\n",
       "    }\n",
       "</style>\n",
       "<table border=\"1\" class=\"dataframe\">\n",
       "  <thead>\n",
       "    <tr style=\"text-align: right;\">\n",
       "      <th></th>\n",
       "      <th>label</th>\n",
       "      <th>link</th>\n",
       "    </tr>\n",
       "  </thead>\n",
       "  <tbody>\n",
       "    <tr>\n",
       "      <th>FX_RATES_RECIPROCAL</th>\n",
       "      <td>Daily reciprocal exchange rates</td>\n",
       "      <td>https://www.bankofcanada.ca/valet/groups/FX_RATES_RECIPROCAL</td>\n",
       "    </tr>\n",
       "    <tr>\n",
       "      <th>FX_RATES_DAILY</th>\n",
       "      <td>Daily exchange rates</td>\n",
       "      <td>https://www.bankofcanada.ca/valet/groups/FX_RATES_DAILY</td>\n",
       "    </tr>\n",
       "    <tr>\n",
       "      <th>FX_RATES_MONTHLY</th>\n",
       "      <td>Monthly exchange rates</td>\n",
       "      <td>https://www.bankofcanada.ca/valet/groups/FX_RATES_MONTHLY</td>\n",
       "    </tr>\n",
       "    <tr>\n",
       "      <th>FX_RATES_ANNUAL</th>\n",
       "      <td>Annual exchange rates</td>\n",
       "      <td>https://www.bankofcanada.ca/valet/groups/FX_RATES_ANNUAL</td>\n",
       "    </tr>\n",
       "    <tr>\n",
       "      <th>SWP-USCANPFX</th>\n",
       "      <td>U.S. / CAD nominal exchange rate</td>\n",
       "      <td>https://www.bankofcanada.ca/valet/groups/SWP-USCANPFX</td>\n",
       "    </tr>\n",
       "    <tr>\n",
       "      <th>SAN_JABS20181014</th>\n",
       "      <td>The Impact of Surprising Monetary Policy Announcements on Exchange Rate Volatility</td>\n",
       "      <td>https://www.bankofcanada.ca/valet/groups/SAN_JABS20181014</td>\n",
       "    </tr>\n",
       "    <tr>\n",
       "      <th>SAN_AROO20190815</th>\n",
       "      <td>Using Exchange-Traded Funds to Measure Liquidity in the Canadian Corporate Bond Market</td>\n",
       "      <td>https://www.bankofcanada.ca/valet/groups/SAN_AROO20190815</td>\n",
       "    </tr>\n",
       "    <tr>\n",
       "      <th>FX_RATES_DAILY_CURRENT</th>\n",
       "      <td>Daily exchange rates</td>\n",
       "      <td>https://www.bankofcanada.ca/valet/groups/FX_RATES_DAILY_CURRENT</td>\n",
       "    </tr>\n",
       "  </tbody>\n",
       "</table>\n",
       "</div>"
      ],
      "text/plain": [
       "                                                                                                         label                                                             link\n",
       "FX_RATES_RECIPROCAL     Daily reciprocal exchange rates                                                         https://www.bankofcanada.ca/valet/groups/FX_RATES_RECIPROCAL   \n",
       "FX_RATES_DAILY          Daily exchange rates                                                                    https://www.bankofcanada.ca/valet/groups/FX_RATES_DAILY        \n",
       "FX_RATES_MONTHLY        Monthly exchange rates                                                                  https://www.bankofcanada.ca/valet/groups/FX_RATES_MONTHLY      \n",
       "FX_RATES_ANNUAL         Annual exchange rates                                                                   https://www.bankofcanada.ca/valet/groups/FX_RATES_ANNUAL       \n",
       "SWP-USCANPFX            U.S. / CAD nominal exchange rate                                                        https://www.bankofcanada.ca/valet/groups/SWP-USCANPFX          \n",
       "SAN_JABS20181014        The Impact of Surprising Monetary Policy Announcements on Exchange Rate Volatility      https://www.bankofcanada.ca/valet/groups/SAN_JABS20181014      \n",
       "SAN_AROO20190815        Using Exchange-Traded Funds to Measure Liquidity in the Canadian Corporate Bond Market  https://www.bankofcanada.ca/valet/groups/SAN_AROO20190815      \n",
       "FX_RATES_DAILY_CURRENT  Daily exchange rates                                                                    https://www.bankofcanada.ca/valet/groups/FX_RATES_DAILY_CURRENT"
      ]
     },
     "execution_count": 33,
     "metadata": {},
     "output_type": "execute_result"
    }
   ],
   "source": [
    "grouplist[grouplist['label'].str.contains('exchange', case=False)]"
   ]
  },
  {
   "cell_type": "code",
   "execution_count": 34,
   "metadata": {},
   "outputs": [
    {
     "data": {
      "text/html": [
       "<div>\n",
       "<style scoped>\n",
       "    .dataframe tbody tr th:only-of-type {\n",
       "        vertical-align: middle;\n",
       "    }\n",
       "\n",
       "    .dataframe tbody tr th {\n",
       "        vertical-align: top;\n",
       "    }\n",
       "\n",
       "    .dataframe thead th {\n",
       "        text-align: right;\n",
       "    }\n",
       "</style>\n",
       "<table border=\"1\" class=\"dataframe\">\n",
       "  <thead>\n",
       "    <tr style=\"text-align: right;\">\n",
       "      <th></th>\n",
       "      <th>name</th>\n",
       "      <th>label</th>\n",
       "      <th>description</th>\n",
       "      <th>groupSeries</th>\n",
       "    </tr>\n",
       "  </thead>\n",
       "  <tbody>\n",
       "    <tr>\n",
       "      <th>FXAUDCAD</th>\n",
       "      <td>FX_RATES_DAILY</td>\n",
       "      <td>Daily exchange rates</td>\n",
       "      <td>Daily average exchange rates - published once each business day by 16:30 ET. All Bank of Canada exchange rates are indicative rates only.</td>\n",
       "      <td>{'label': 'AUD/CAD', 'link': 'https://www.bankofcanada.ca/valet/series/FXAUDCAD'}</td>\n",
       "    </tr>\n",
       "    <tr>\n",
       "      <th>FXBRLCAD</th>\n",
       "      <td>FX_RATES_DAILY</td>\n",
       "      <td>Daily exchange rates</td>\n",
       "      <td>Daily average exchange rates - published once each business day by 16:30 ET. All Bank of Canada exchange rates are indicative rates only.</td>\n",
       "      <td>{'label': 'BRL/CAD', 'link': 'https://www.bankofcanada.ca/valet/series/FXBRLCAD'}</td>\n",
       "    </tr>\n",
       "    <tr>\n",
       "      <th>FXCHFCAD</th>\n",
       "      <td>FX_RATES_DAILY</td>\n",
       "      <td>Daily exchange rates</td>\n",
       "      <td>Daily average exchange rates - published once each business day by 16:30 ET. All Bank of Canada exchange rates are indicative rates only.</td>\n",
       "      <td>{'label': 'CHF/CAD', 'link': 'https://www.bankofcanada.ca/valet/series/FXCHFCAD'}</td>\n",
       "    </tr>\n",
       "    <tr>\n",
       "      <th>FXCNYCAD</th>\n",
       "      <td>FX_RATES_DAILY</td>\n",
       "      <td>Daily exchange rates</td>\n",
       "      <td>Daily average exchange rates - published once each business day by 16:30 ET. All Bank of Canada exchange rates are indicative rates only.</td>\n",
       "      <td>{'label': 'CNY/CAD', 'link': 'https://www.bankofcanada.ca/valet/series/FXCNYCAD'}</td>\n",
       "    </tr>\n",
       "    <tr>\n",
       "      <th>FXEURCAD</th>\n",
       "      <td>FX_RATES_DAILY</td>\n",
       "      <td>Daily exchange rates</td>\n",
       "      <td>Daily average exchange rates - published once each business day by 16:30 ET. All Bank of Canada exchange rates are indicative rates only.</td>\n",
       "      <td>{'label': 'EUR/CAD', 'link': 'https://www.bankofcanada.ca/valet/series/FXEURCAD'}</td>\n",
       "    </tr>\n",
       "  </tbody>\n",
       "</table>\n",
       "</div>"
      ],
      "text/plain": [
       "                    name                 label                                                                                                                                description                                                                        groupSeries\n",
       "FXAUDCAD  FX_RATES_DAILY  Daily exchange rates  Daily average exchange rates - published once each business day by 16:30 ET. All Bank of Canada exchange rates are indicative rates only.  {'label': 'AUD/CAD', 'link': 'https://www.bankofcanada.ca/valet/series/FXAUDCAD'}\n",
       "FXBRLCAD  FX_RATES_DAILY  Daily exchange rates  Daily average exchange rates - published once each business day by 16:30 ET. All Bank of Canada exchange rates are indicative rates only.  {'label': 'BRL/CAD', 'link': 'https://www.bankofcanada.ca/valet/series/FXBRLCAD'}\n",
       "FXCHFCAD  FX_RATES_DAILY  Daily exchange rates  Daily average exchange rates - published once each business day by 16:30 ET. All Bank of Canada exchange rates are indicative rates only.  {'label': 'CHF/CAD', 'link': 'https://www.bankofcanada.ca/valet/series/FXCHFCAD'}\n",
       "FXCNYCAD  FX_RATES_DAILY  Daily exchange rates  Daily average exchange rates - published once each business day by 16:30 ET. All Bank of Canada exchange rates are indicative rates only.  {'label': 'CNY/CAD', 'link': 'https://www.bankofcanada.ca/valet/series/FXCNYCAD'}\n",
       "FXEURCAD  FX_RATES_DAILY  Daily exchange rates  Daily average exchange rates - published once each business day by 16:30 ET. All Bank of Canada exchange rates are indicative rates only.  {'label': 'EUR/CAD', 'link': 'https://www.bankofcanada.ca/valet/series/FXEURCAD'}"
      ]
     },
     "execution_count": 34,
     "metadata": {},
     "output_type": "execute_result"
    }
   ],
   "source": [
    "group_name = \"FX_RATES_DAILY\"\n",
    "r = requests.get(\"https://www.bankofcanada.ca/valet/groups/{}/json\".format(group_name))\n",
    "pd.DataFrame(r.json()['groupDetails']).head()"
   ]
  },
  {
   "cell_type": "code",
   "execution_count": 35,
   "metadata": {},
   "outputs": [
    {
     "name": "stdout",
     "output_type": "stream",
     "text": [
      "              BCPI\n",
      "date              \n",
      "2019-09-25  432.33\n",
      "2019-09-18  433.06\n",
      "2019-09-11  428.60\n",
      "2019-09-04  421.88\n",
      "2019-08-28  417.90\n",
      "              BCPI\n",
      "date              \n",
      "2000-02-02  305.83\n",
      "2000-01-26  302.82\n",
      "2000-01-19  295.11\n",
      "2000-01-12  284.80\n",
      "2000-01-05  284.90\n"
     ]
    }
   ],
   "source": [
    "symbol = \"W.BCPI\"\n",
    "start = date(2000,1,1)\n",
    "end = date(2019,9,30)\n",
    "reader = BankOfCanadaReader(symbol, start = start, end = end)\n",
    "BCPI = reader.read()\n",
    "BCPI.index.name = 'date'\n",
    "BCPI.columns = ['BCPI']\n",
    "print(BCPI.head())\n",
    "print(BCPI.tail())"
   ]
  },
  {
   "cell_type": "code",
   "execution_count": 36,
   "metadata": {},
   "outputs": [],
   "source": [
    "BCPI.to_csv(\"data/BCPI.csv\")"
   ]
  },
  {
   "cell_type": "code",
   "execution_count": 37,
   "metadata": {},
   "outputs": [
    {
     "name": "stdout",
     "output_type": "stream",
     "text": [
      "              CPI\n",
      "date             \n",
      "2019-09-01  136.2\n",
      "2019-08-01  136.8\n",
      "2019-07-01  137.0\n",
      "2019-06-01  136.3\n",
      "2019-05-01  136.6\n",
      "             CPI\n",
      "date            \n",
      "2000-05-01  94.9\n",
      "2000-04-01  94.5\n",
      "2000-03-01  94.8\n",
      "2000-02-01  94.1\n",
      "2000-01-01  93.5\n"
     ]
    }
   ],
   "source": [
    "symbol = \"V41690973\"\n",
    "start = date(2000,1,1)\n",
    "end = date(2019,9,30)\n",
    "reader = BankOfCanadaReader(symbol, start = start, end = end)\n",
    "CPI = reader.read()\n",
    "CPI.index.name = 'date'\n",
    "CPI.columns = ['CPI']\n",
    "print(CPI.head())\n",
    "print(CPI.tail())"
   ]
  },
  {
   "cell_type": "code",
   "execution_count": 38,
   "metadata": {},
   "outputs": [],
   "source": [
    "CPI.to_csv(\"data/CPI.csv\")"
   ]
  },
  {
   "cell_type": "code",
   "execution_count": 39,
   "metadata": {},
   "outputs": [
    {
     "name": "stdout",
     "output_type": "stream",
     "text": [
      "            bank_interest\n",
      "date                     \n",
      "2019-09-25  3.95         \n",
      "2019-09-18  3.95         \n",
      "2019-09-11  3.95         \n",
      "2019-09-04  3.95         \n",
      "2019-08-28  3.95         \n",
      "            bank_interest\n",
      "date                     \n",
      "2000-02-02  6.5          \n",
      "2000-01-26  6.5          \n",
      "2000-01-19  6.5          \n",
      "2000-01-12  6.5          \n",
      "2000-01-05  6.5          \n"
     ]
    }
   ],
   "source": [
    "symbol = \"V80691311\"\n",
    "start = date(2000,1,1)\n",
    "end = date(2019,9,30)\n",
    "reader = BankOfCanadaReader(symbol, start = start, end = end)\n",
    "bank_interest = reader.read()\n",
    "bank_interest.index.name = 'date'\n",
    "bank_interest.columns = ['bank_interest']\n",
    "print(bank_interest.head())\n",
    "print(bank_interest.tail())"
   ]
  },
  {
   "cell_type": "code",
   "execution_count": 40,
   "metadata": {},
   "outputs": [],
   "source": [
    "bank_interest.to_csv(\"data/bank_interest.csv\")"
   ]
  },
  {
   "cell_type": "code",
   "execution_count": 42,
   "metadata": {},
   "outputs": [
    {
     "name": "stdout",
     "output_type": "stream",
     "text": [
      "             CEER\n",
      "date             \n",
      "1999-01-01  95.43\n",
      "1999-01-04  95.47\n",
      "1999-01-05  95.84\n",
      "1999-01-06  96.66\n",
      "1999-01-07  96.46\n",
      "              CEER\n",
      "date              \n",
      "2019-10-07  117.16\n",
      "2019-10-08  117.08\n",
      "2019-10-09  117.03\n",
      "2019-10-10  117.15\n",
      "2019-10-11  117.75\n"
     ]
    }
   ],
   "source": [
    "CEER = pd.read_csv(\"data/CEER.csv\", parse_dates=['date'], index_col='date')\n",
    "CEER.columns = ['CEER']\n",
    "print(CEER.head())\n",
    "print(CEER.tail())"
   ]
  },
  {
   "cell_type": "code",
   "execution_count": 43,
   "metadata": {},
   "outputs": [],
   "source": [
    "CEER.to_csv(\"data/CEER.csv\")"
   ]
  },
  {
   "cell_type": "markdown",
   "metadata": {},
   "source": [
    "#### 4. Get google trend data"
   ]
  },
  {
   "cell_type": "markdown",
   "metadata": {},
   "source": [
    "Here we downloaded google trend data manually. We will change it to using pytrend package in the future.  \n",
    "The keywords are: grocery store, loblaws, stock\n"
   ]
  },
  {
   "cell_type": "code",
   "execution_count": 44,
   "metadata": {},
   "outputs": [
    {
     "name": "stdout",
     "output_type": "stream",
     "text": [
      "            trend_grocery_store\n",
      "date                           \n",
      "2004-01-01  47                 \n",
      "2004-02-01  44                 \n",
      "2004-03-01  41                 \n",
      "2004-04-01  39                 \n",
      "2004-05-01  40                 \n",
      "            trend_grocery_store\n",
      "date                           \n",
      "2019-06-01  85                 \n",
      "2019-07-01  98                 \n",
      "2019-08-01  100                \n",
      "2019-09-01  87                 \n",
      "2019-10-01  80                 \n"
     ]
    }
   ],
   "source": [
    "trend_grocery_store = pd.read_csv(\"data/trend_grocery_store.csv\", parse_dates=['date'], index_col = 'date')\n",
    "trend_grocery_store.index.name = 'date'\n",
    "trend_grocery_store.columns = ['trend_grocery_store']\n",
    "print(trend_grocery_store.head())\n",
    "print(trend_grocery_store.tail())"
   ]
  },
  {
   "cell_type": "code",
   "execution_count": 45,
   "metadata": {},
   "outputs": [],
   "source": [
    "trend_grocery_store.to_csv(\"data/trend_grocery_store.csv\")"
   ]
  },
  {
   "cell_type": "code",
   "execution_count": 46,
   "metadata": {},
   "outputs": [
    {
     "name": "stdout",
     "output_type": "stream",
     "text": [
      "            trend_loblaws\n",
      "date                     \n",
      "2004-01-01  27           \n",
      "2004-02-01  27           \n",
      "2004-03-01  24           \n",
      "2004-04-01  26           \n",
      "2004-05-01  29           \n",
      "            trend_loblaws\n",
      "date                     \n",
      "2019-06-01  37           \n",
      "2019-07-01  37           \n",
      "2019-08-01  37           \n",
      "2019-09-01  35           \n",
      "2019-10-01  34           \n"
     ]
    }
   ],
   "source": [
    "trend_loblaws = pd.read_csv(\"data/trend_loblaws.csv\", parse_dates=['date'], index_col = 'date')\n",
    "trend_loblaws.index.name = 'date'\n",
    "trend_loblaws.columns = ['trend_loblaws']\n",
    "print(trend_loblaws.head())\n",
    "print(trend_loblaws.tail())"
   ]
  },
  {
   "cell_type": "code",
   "execution_count": 47,
   "metadata": {},
   "outputs": [],
   "source": [
    "trend_loblaws.to_csv(\"data/trend_loblaws.csv\")"
   ]
  },
  {
   "cell_type": "code",
   "execution_count": 48,
   "metadata": {},
   "outputs": [
    {
     "name": "stdout",
     "output_type": "stream",
     "text": [
      "            trend_stock\n",
      "date                   \n",
      "2004-01-01  17         \n",
      "2004-02-01  17         \n",
      "2004-03-01  15         \n",
      "2004-04-01  14         \n",
      "2004-05-01  13         \n",
      "            trend_stock\n",
      "date                   \n",
      "2019-06-01  65         \n",
      "2019-07-01  68         \n",
      "2019-08-01  74         \n",
      "2019-09-01  63         \n",
      "2019-10-01  64         \n"
     ]
    }
   ],
   "source": [
    "trend_stock = pd.read_csv(\"data/trend_stock.csv\", parse_dates=['date'], index_col = 'date')\n",
    "trend_stock.index.name = 'date'\n",
    "trend_stock.columns = ['trend_stock']\n",
    "print(trend_stock.head())\n",
    "print(trend_stock.tail())"
   ]
  },
  {
   "cell_type": "code",
   "execution_count": 49,
   "metadata": {},
   "outputs": [],
   "source": [
    "trend_stock.to_csv(\"data/trend_stock.csv\")"
   ]
  },
  {
   "cell_type": "code",
   "execution_count": null,
   "metadata": {},
   "outputs": [],
   "source": []
  },
  {
   "cell_type": "code",
   "execution_count": null,
   "metadata": {},
   "outputs": [],
   "source": []
  }
 ],
 "metadata": {
  "file_extension": ".py",
  "kernelspec": {
   "display_name": "Python 3",
   "language": "python",
   "name": "python3"
  },
  "language_info": {
   "codemirror_mode": {
    "name": "ipython",
    "version": 3
   },
   "file_extension": ".py",
   "mimetype": "text/x-python",
   "name": "python",
   "nbconvert_exporter": "python",
   "pygments_lexer": "ipython3",
   "version": "3.7.3"
  },
  "mimetype": "text/x-python",
  "name": "python",
  "npconvert_exporter": "python",
  "pygments_lexer": "ipython3",
  "version": 3
 },
 "nbformat": 4,
 "nbformat_minor": 2
}
