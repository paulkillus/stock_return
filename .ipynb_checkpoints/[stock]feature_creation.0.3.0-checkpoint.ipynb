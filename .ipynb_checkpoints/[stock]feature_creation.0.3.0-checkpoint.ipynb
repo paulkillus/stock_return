{
 "cells": [
  {
   "cell_type": "markdown",
   "metadata": {},
   "source": [
    "# Project: Predicting Stock Price & Return  \n",
    "Feature Creation\n",
    "## ver 0.2  \n",
    "All guidance and guildlines provided by Romeo Kienzler"
   ]
  },
  {
   "cell_type": "markdown",
   "metadata": {},
   "source": [
    "### Guidance - Feature Creation  \n",
    "This task transforms input columns of various relations into additional columns to improve model performance. A subset of those features can be created in an initial task (for example, one-hot encoding of categorical variables or normalization of numerical variables). Some others require business understanding or multiple iterations to be considered. This task is one of those benefiting the most from the highly iterative nature of this method."
   ]
  },
  {
   "cell_type": "markdown",
   "metadata": {},
   "source": [
    "### Guildlines for feature transformation  \n",
    "- Imputing  \n",
    "Some algoriths are very sensitive to missing values. Therefore, imputing allows for filling of empty fields based on its value distribution  \n",
    "- Imputed time-seies quantization  \n",
    "Time series often contain streams with measurements at different timestamps. Therefore, it is beneficial to quantize measurements to a common \"heart beat: and impute the corresponding values. This can be done by sampling from the source time series distributions on the respective quantized time steps  \n",
    "- Scaling / Normalizing / Centering  \n",
    "Some algorithms are very sensitive differences in value ranges for individual fields. Therefore, it is best practice to center data around zero and scale values to a standard deviation of one  \n",
    "- Filtering  \n",
    "Sometimes imputing values doesn't perform well, therefore deletion of low quality records is a better strategy  \n",
    "- Discretizing  \n",
    "Continuous fileds might confuse the model, e.g. a discrete set of age ranges sometimes performs better than continuous values, especially on smaller amounts of data and with simpler models"
   ]
  },
  {
   "cell_type": "markdown",
   "metadata": {},
   "source": [
    "### Guildlines for feature creation  \n",
    "- One-hot-enconding  \n",
    "Categorical integer features should be transformed into \"one-hot\" vectors. In relational terms this results in additional columns - one columns for each distinct category  \n",
    "- Time-to-Frequency transformation  \n",
    "Time-series (and sometimes also sequence data) is recorded in the time domain but can easily transformed into the frequency domain e.g. using FFT (Fast Fourier transformation)  \n",
    "- Month-From-Date  \n",
    "Creating an additional feature containing the month independent from data captures seasonal aspects. Sometimes further discretization in to quarters helps as well  \n",
    "- Aggregate-on-Target  \n",
    "Simply aggregating fields the target variable (or even other fields) can improve performance, e.g. count number of data points per ZIP code or take the median of all values by geographical region"
   ]
  },
  {
   "cell_type": "markdown",
   "metadata": {},
   "source": [
    "#### 0.Import packages"
   ]
  },
  {
   "cell_type": "code",
   "execution_count": 1,
   "metadata": {},
   "outputs": [],
   "source": [
    "import pandas as pd\n",
    "import matplotlib.pyplot as plt\n",
    "import seaborn as sns\n",
    "import numpy as np\n",
    "\n",
    "import talib"
   ]
  },
  {
   "cell_type": "code",
   "execution_count": 2,
   "metadata": {},
   "outputs": [],
   "source": [
    "#let the notebook display full length of the data columns\n",
    "pd.set_option('display.max_columns', None)  \n",
    "pd.set_option('display.expand_frame_repr', False)\n",
    "pd.set_option('max_colwidth', -1)"
   ]
  },
  {
   "cell_type": "markdown",
   "metadata": {},
   "source": [
    "#### 1. Create target"
   ]
  },
  {
   "cell_type": "code",
   "execution_count": 3,
   "metadata": {},
   "outputs": [
    {
     "name": "stdout",
     "output_type": "stream",
     "text": [
      "<class 'pandas.core.frame.DataFrame'>\n",
      "DatetimeIndex: 4356 entries, 2003-01-02 to 2019-10-18\n",
      "Data columns (total 21 columns):\n",
      "loblaw_price           4356 non-null float64\n",
      "loblaw_volume          4356 non-null float64\n",
      "metro_price            4356 non-null float64\n",
      "metro_volume           4356 non-null float64\n",
      "empa_price             4356 non-null float64\n",
      "empa_volume            4356 non-null float64\n",
      "gwl_price              4356 non-null float64\n",
      "gwl_volume             4356 non-null float64\n",
      "atd_price              4356 non-null float64\n",
      "atd_volume             4356 non-null float64\n",
      "tsx_price              4356 non-null float64\n",
      "tsx_volume             4356 non-null float64\n",
      "sp500_price            4356 non-null float64\n",
      "sp500_volume           4356 non-null float64\n",
      "BCPI                   4356 non-null float64\n",
      "CPI                    4356 non-null float64\n",
      "bank_interest          4356 non-null float64\n",
      "CEER                   4356 non-null float64\n",
      "trend_grocery_store    4104 non-null float64\n",
      "trend_loblaws          4104 non-null float64\n",
      "trend_stock            4104 non-null float64\n",
      "dtypes: float64(21)\n",
      "memory usage: 748.7 KB\n"
     ]
    }
   ],
   "source": [
    "df = pd.read_csv(\"data_transformed.csv\", parse_dates=['date'], index_col='date')\n",
    "df.info()"
   ]
  },
  {
   "cell_type": "code",
   "execution_count": 4,
   "metadata": {},
   "outputs": [
    {
     "data": {
      "image/png": "[encoded data removed]",
      "text/plain": [
       "<Figure size 432x288 with 2 Axes>"
      ]
     },
     "metadata": {
      "needs_background": "light"
     },
     "output_type": "display_data"
    }
   ],
   "source": [
    "df['loblaw_price'].plot(label = 'loblaw price', legend = True)\n",
    "df['loblaw_volume'].plot(secondary_y=True, alpha=0.5, label = 'loblaw volume' , legend = True)\n",
    "plt.show()"
   ]
  },
  {
   "cell_type": "code",
   "execution_count": 7,
   "metadata": {},
   "outputs": [],
   "source": [
    "df['loblaw_5d_future'] = df['loblaw_price'].shift(-5)\n",
    "df['loblaw_5d_future_pct'] = df['loblaw_5d_future'].pct_change(5)\n",
    "df['loblaw_5d_pct'] = df['loblaw_price'].pct_change(5)"
   ]
  },
  {
   "cell_type": "code",
   "execution_count": 13,
   "metadata": {},
   "outputs": [
    {
     "ename": "TypeError",
     "evalue": "boxplot() got an unexpected keyword argument 'columns'",
     "output_type": "error",
     "traceback": [
      "\u001b[0;31m---------------------------------------------------------------------------\u001b[0m",
      "\u001b[0;31mTypeError\u001b[0m                                 Traceback (most recent call last)",
      "\u001b[0;32m<ipython-input-13-cb03703ffbb0>\u001b[0m in \u001b[0;36m<module>\u001b[0;34m()\u001b[0m\n\u001b[0;32m----> 1\u001b[0;31m \u001b[0msns\u001b[0m\u001b[0;34m.\u001b[0m\u001b[0mboxplot\u001b[0m\u001b[0;34m(\u001b[0m\u001b[0mdata\u001b[0m \u001b[0;34m=\u001b[0m \u001b[0mdf\u001b[0m\u001b[0;34m,\u001b[0m \u001b[0mcolumns\u001b[0m\u001b[0;34m=\u001b[0m\u001b[0;34m[\u001b[0m\u001b[0;34m'loblaw_5d_pct'\u001b[0m\u001b[0;34m]\u001b[0m\u001b[0;34m)\u001b[0m\u001b[0;34m\u001b[0m\u001b[0;34m\u001b[0m\u001b[0m\n\u001b[0m",
      "\u001b[0;32m/home/paul/anaconda3/lib/python3.7/site-packages/seaborn/categorical.py\u001b[0m in \u001b[0;36mboxplot\u001b[0;34m(x, y, hue, data, order, hue_order, orient, color, palette, saturation, width, dodge, fliersize, linewidth, whis, notch, ax, **kwargs)\u001b[0m\n\u001b[1;32m   2235\u001b[0m     \u001b[0mkwargs\u001b[0m\u001b[0;34m.\u001b[0m\u001b[0mupdate\u001b[0m\u001b[0;34m(\u001b[0m\u001b[0mdict\u001b[0m\u001b[0;34m(\u001b[0m\u001b[0mwhis\u001b[0m\u001b[0;34m=\u001b[0m\u001b[0mwhis\u001b[0m\u001b[0;34m,\u001b[0m \u001b[0mnotch\u001b[0m\u001b[0;34m=\u001b[0m\u001b[0mnotch\u001b[0m\u001b[0;34m)\u001b[0m\u001b[0;34m)\u001b[0m\u001b[0;34m\u001b[0m\u001b[0;34m\u001b[0m\u001b[0m\n\u001b[1;32m   2236\u001b[0m \u001b[0;34m\u001b[0m\u001b[0m\n\u001b[0;32m-> 2237\u001b[0;31m     \u001b[0mplotter\u001b[0m\u001b[0;34m.\u001b[0m\u001b[0mplot\u001b[0m\u001b[0;34m(\u001b[0m\u001b[0max\u001b[0m\u001b[0;34m,\u001b[0m \u001b[0mkwargs\u001b[0m\u001b[0;34m)\u001b[0m\u001b[0;34m\u001b[0m\u001b[0;34m\u001b[0m\u001b[0m\n\u001b[0m\u001b[1;32m   2238\u001b[0m     \u001b[0;32mreturn\u001b[0m \u001b[0max\u001b[0m\u001b[0;34m\u001b[0m\u001b[0;34m\u001b[0m\u001b[0m\n\u001b[1;32m   2239\u001b[0m \u001b[0;34m\u001b[0m\u001b[0m\n",
      "\u001b[0;32m/home/paul/anaconda3/lib/python3.7/site-packages/seaborn/categorical.py\u001b[0m in \u001b[0;36mplot\u001b[0;34m(self, ax, boxplot_kws)\u001b[0m\n\u001b[1;32m    547\u001b[0m     \u001b[0;32mdef\u001b[0m \u001b[0mplot\u001b[0m\u001b[0;34m(\u001b[0m\u001b[0mself\u001b[0m\u001b[0;34m,\u001b[0m \u001b[0max\u001b[0m\u001b[0;34m,\u001b[0m \u001b[0mboxplot_kws\u001b[0m\u001b[0;34m)\u001b[0m\u001b[0;34m:\u001b[0m\u001b[0;34m\u001b[0m\u001b[0;34m\u001b[0m\u001b[0m\n\u001b[1;32m    548\u001b[0m         \u001b[0;34m\"\"\"Make the plot.\"\"\"\u001b[0m\u001b[0;34m\u001b[0m\u001b[0;34m\u001b[0m\u001b[0m\n\u001b[0;32m--> 549\u001b[0;31m         \u001b[0mself\u001b[0m\u001b[0;34m.\u001b[0m\u001b[0mdraw_boxplot\u001b[0m\u001b[0;34m(\u001b[0m\u001b[0max\u001b[0m\u001b[0;34m,\u001b[0m \u001b[0mboxplot_kws\u001b[0m\u001b[0;34m)\u001b[0m\u001b[0;34m\u001b[0m\u001b[0;34m\u001b[0m\u001b[0m\n\u001b[0m\u001b[1;32m    550\u001b[0m         \u001b[0mself\u001b[0m\u001b[0;34m.\u001b[0m\u001b[0mannotate_axes\u001b[0m\u001b[0;34m(\u001b[0m\u001b[0max\u001b[0m\u001b[0;34m)\u001b[0m\u001b[0;34m\u001b[0m\u001b[0;34m\u001b[0m\u001b[0m\n\u001b[1;32m    551\u001b[0m         \u001b[0;32mif\u001b[0m \u001b[0mself\u001b[0m\u001b[0;34m.\u001b[0m\u001b[0morient\u001b[0m \u001b[0;34m==\u001b[0m \u001b[0;34m\"h\"\u001b[0m\u001b[0;34m:\u001b[0m\u001b[0;34m\u001b[0m\u001b[0;34m\u001b[0m\u001b[0m\n",
      "\u001b[0;32m/home/paul/anaconda3/lib/python3.7/site-packages/seaborn/categorical.py\u001b[0m in \u001b[0;36mdraw_boxplot\u001b[0;34m(self, ax, kws)\u001b[0m\n\u001b[1;32m    484\u001b[0m                                          \u001b[0mpositions\u001b[0m\u001b[0;34m=\u001b[0m\u001b[0;34m[\u001b[0m\u001b[0mi\u001b[0m\u001b[0;34m]\u001b[0m\u001b[0;34m,\u001b[0m\u001b[0;34m\u001b[0m\u001b[0;34m\u001b[0m\u001b[0m\n\u001b[1;32m    485\u001b[0m                                          \u001b[0mwidths\u001b[0m\u001b[0;34m=\u001b[0m\u001b[0mself\u001b[0m\u001b[0;34m.\u001b[0m\u001b[0mwidth\u001b[0m\u001b[0;34m,\u001b[0m\u001b[0;34m\u001b[0m\u001b[0;34m\u001b[0m\u001b[0m\n\u001b[0;32m--> 486\u001b[0;31m                                          **kws)\n\u001b[0m\u001b[1;32m    487\u001b[0m                 \u001b[0mcolor\u001b[0m \u001b[0;34m=\u001b[0m \u001b[0mself\u001b[0m\u001b[0;34m.\u001b[0m\u001b[0mcolors\u001b[0m\u001b[0;34m[\u001b[0m\u001b[0mi\u001b[0m\u001b[0;34m]\u001b[0m\u001b[0;34m\u001b[0m\u001b[0;34m\u001b[0m\u001b[0m\n\u001b[1;32m    488\u001b[0m                 \u001b[0mself\u001b[0m\u001b[0;34m.\u001b[0m\u001b[0mrestyle_boxplot\u001b[0m\u001b[0;34m(\u001b[0m\u001b[0martist_dict\u001b[0m\u001b[0;34m,\u001b[0m \u001b[0mcolor\u001b[0m\u001b[0;34m,\u001b[0m \u001b[0mprops\u001b[0m\u001b[0;34m)\u001b[0m\u001b[0;34m\u001b[0m\u001b[0;34m\u001b[0m\u001b[0m\n",
      "\u001b[0;32m/home/paul/anaconda3/lib/python3.7/site-packages/matplotlib/cbook/deprecation.py\u001b[0m in \u001b[0;36mwrapper\u001b[0;34m(*args, **kwargs)\u001b[0m\n\u001b[1;32m    305\u001b[0m                 f\"for the old name will be dropped %(removal)s.\")\n\u001b[1;32m    306\u001b[0m             \u001b[0mkwargs\u001b[0m\u001b[0;34m[\u001b[0m\u001b[0mnew\u001b[0m\u001b[0;34m]\u001b[0m \u001b[0;34m=\u001b[0m \u001b[0mkwargs\u001b[0m\u001b[0;34m.\u001b[0m\u001b[0mpop\u001b[0m\u001b[0;34m(\u001b[0m\u001b[0mold\u001b[0m\u001b[0;34m)\u001b[0m\u001b[0;34m\u001b[0m\u001b[0;34m\u001b[0m\u001b[0m\n\u001b[0;32m--> 307\u001b[0;31m         \u001b[0;32mreturn\u001b[0m \u001b[0mfunc\u001b[0m\u001b[0;34m(\u001b[0m\u001b[0;34m*\u001b[0m\u001b[0margs\u001b[0m\u001b[0;34m,\u001b[0m \u001b[0;34m**\u001b[0m\u001b[0mkwargs\u001b[0m\u001b[0;34m)\u001b[0m\u001b[0;34m\u001b[0m\u001b[0;34m\u001b[0m\u001b[0m\n\u001b[0m\u001b[1;32m    308\u001b[0m \u001b[0;34m\u001b[0m\u001b[0m\n\u001b[1;32m    309\u001b[0m     \u001b[0;31m# wrapper() must keep the same documented signature as func(): if we\u001b[0m\u001b[0;34m\u001b[0m\u001b[0;34m\u001b[0m\u001b[0;34m\u001b[0m\u001b[0m\n",
      "\u001b[0;32m/home/paul/anaconda3/lib/python3.7/site-packages/matplotlib/__init__.py\u001b[0m in \u001b[0;36minner\u001b[0;34m(ax, data, *args, **kwargs)\u001b[0m\n\u001b[1;32m   1587\u001b[0m     \u001b[0;32mdef\u001b[0m \u001b[0minner\u001b[0m\u001b[0;34m(\u001b[0m\u001b[0max\u001b[0m\u001b[0;34m,\u001b[0m \u001b[0;34m*\u001b[0m\u001b[0margs\u001b[0m\u001b[0;34m,\u001b[0m \u001b[0mdata\u001b[0m\u001b[0;34m=\u001b[0m\u001b[0;32mNone\u001b[0m\u001b[0;34m,\u001b[0m \u001b[0;34m**\u001b[0m\u001b[0mkwargs\u001b[0m\u001b[0;34m)\u001b[0m\u001b[0;34m:\u001b[0m\u001b[0;34m\u001b[0m\u001b[0;34m\u001b[0m\u001b[0m\n\u001b[1;32m   1588\u001b[0m         \u001b[0;32mif\u001b[0m \u001b[0mdata\u001b[0m \u001b[0;32mis\u001b[0m \u001b[0;32mNone\u001b[0m\u001b[0;34m:\u001b[0m\u001b[0;34m\u001b[0m\u001b[0;34m\u001b[0m\u001b[0m\n\u001b[0;32m-> 1589\u001b[0;31m             \u001b[0;32mreturn\u001b[0m \u001b[0mfunc\u001b[0m\u001b[0;34m(\u001b[0m\u001b[0max\u001b[0m\u001b[0;34m,\u001b[0m \u001b[0;34m*\u001b[0m\u001b[0mmap\u001b[0m\u001b[0;34m(\u001b[0m\u001b[0msanitize_sequence\u001b[0m\u001b[0;34m,\u001b[0m \u001b[0margs\u001b[0m\u001b[0;34m)\u001b[0m\u001b[0;34m,\u001b[0m \u001b[0;34m**\u001b[0m\u001b[0mkwargs\u001b[0m\u001b[0;34m)\u001b[0m\u001b[0;34m\u001b[0m\u001b[0;34m\u001b[0m\u001b[0m\n\u001b[0m\u001b[1;32m   1590\u001b[0m \u001b[0;34m\u001b[0m\u001b[0m\n\u001b[1;32m   1591\u001b[0m         \u001b[0mbound\u001b[0m \u001b[0;34m=\u001b[0m \u001b[0mnew_sig\u001b[0m\u001b[0;34m.\u001b[0m\u001b[0mbind\u001b[0m\u001b[0;34m(\u001b[0m\u001b[0max\u001b[0m\u001b[0;34m,\u001b[0m \u001b[0;34m*\u001b[0m\u001b[0margs\u001b[0m\u001b[0;34m,\u001b[0m \u001b[0;34m**\u001b[0m\u001b[0mkwargs\u001b[0m\u001b[0;34m)\u001b[0m\u001b[0;34m\u001b[0m\u001b[0;34m\u001b[0m\u001b[0m\n",
      "\u001b[0;31mTypeError\u001b[0m: boxplot() got an unexpected keyword argument 'columns'"
     ]
    },
    {
     "data": {
      "image/png": "[encoded data removed]",
      "text/plain": [
       "<Figure size 432x288 with 1 Axes>"
      ]
     },
     "metadata": {
      "needs_background": "light"
     },
     "output_type": "display_data"
    }
   ],
   "source": [
    "sns.boxplot(data = df, columns=['loblaw_5d_pct'])"
   ]
  },
  {
   "cell_type": "code",
   "execution_count": 8,
   "metadata": {},
   "outputs": [
    {
     "name": "stdout",
     "output_type": "stream",
     "text": [
      "                      loblaw_5d_pct  loblaw_5d_future_pct\n",
      "loblaw_5d_pct         1.000000      -0.025631            \n",
      "loblaw_5d_future_pct -0.025631       1.000000            \n"
     ]
    }
   ],
   "source": [
    "corr = df[['loblaw_5d_pct', 'loblaw_5d_future_pct']].corr()\n",
    "print(corr)"
   ]
  },
  {
   "cell_type": "code",
   "execution_count": 9,
   "metadata": {},
   "outputs": [
    {
     "name": "stdout",
     "output_type": "stream",
     "text": [
      "['loblaw_5d_pct', 'loblaw_ma14', 'loblaw_rsi14', 'loblaw_ma30', 'loblaw_rsi30', 'loblaw_ma50', 'loblaw_rsi50', 'loblaw_ma200', 'loblaw_rsi200']\n"
     ]
    }
   ],
   "source": [
    "feature_names = ['loblaw_5d_pct']\n",
    "\n",
    "for n in [14, 30, 50, 200]:\n",
    "    df['loblaw_ma' + str(n)] = talib.SMA(df['loblaw_price'].values, timeperiod=n) / df['loblaw_price']\n",
    "    df['loblaw_rsi' + str(n)] = talib.RSI(df['loblaw_price'].values, timeperiod=n) \n",
    "    feature_names = feature_names + ['loblaw_ma' + str(n), 'loblaw_rsi' + str(n)]\n",
    "\n",
    "print(feature_names)"
   ]
  },
  {
   "cell_type": "code",
   "execution_count": 10,
   "metadata": {},
   "outputs": [],
   "source": [
    "loblaw_df = df[['loblaw_5d_future_pct'] + feature_names].dropna()\n",
    "features = loblaw_df[feature_names]\n",
    "targets = loblaw_df['loblaw_5d_future_pct']"
   ]
  },
  {
   "cell_type": "code",
   "execution_count": 11,
   "metadata": {},
   "outputs": [
    {
     "name": "stdout",
     "output_type": "stream",
     "text": [
      "                      loblaw_5d_future_pct  loblaw_5d_pct  loblaw_ma14  loblaw_rsi14  loblaw_ma30  loblaw_rsi30  loblaw_ma50  loblaw_rsi50  loblaw_ma200  loblaw_rsi200\n",
      "loblaw_5d_future_pct  1.000000             -0.025814      -0.012333     0.003105     -0.008328     0.005128      0.013913     0.011063     -0.008095      0.016651     \n",
      "loblaw_5d_pct        -0.025814              1.000000      -0.855409     0.657892     -0.651014     0.503336     -0.508196     0.407907     -0.268928      0.216789     \n",
      "loblaw_ma14          -0.012333             -0.855409       1.000000    -0.832514      0.864789    -0.678718      0.703826    -0.566471      0.392134     -0.320705     \n",
      "loblaw_rsi14          0.003105              0.657892      -0.832514     1.000000     -0.909980     0.926142     -0.872775     0.817534     -0.570844      0.495501     \n",
      "loblaw_ma30          -0.008328             -0.651014       0.864789    -0.909980      1.000000    -0.845652      0.923298    -0.747240      0.563115     -0.457417     \n",
      "loblaw_rsi30          0.005128              0.503336      -0.678718     0.926142     -0.845652     1.000000     -0.917781     0.967601     -0.778309      0.685417     \n",
      "loblaw_ma50           0.013913             -0.508196       0.703826    -0.872775      0.923298    -0.917781      1.000000    -0.860663      0.702752     -0.572185     \n",
      "loblaw_rsi50          0.011063              0.407907      -0.566471     0.817534     -0.747240     0.967601     -0.860663     1.000000     -0.894127      0.810646     \n",
      "loblaw_ma200         -0.008095             -0.268928       0.392134    -0.570844      0.563115    -0.778309      0.702752    -0.894127      1.000000     -0.891259     \n",
      "loblaw_rsi200         0.016651              0.216789      -0.320705     0.495501     -0.457417     0.685417     -0.572185     0.810646     -0.891259      1.000000     \n"
     ]
    }
   ],
   "source": [
    "corr = loblaw_df.corr()\n",
    "print(corr)"
   ]
  },
  {
   "cell_type": "code",
   "execution_count": 12,
   "metadata": {},
   "outputs": [
    {
     "name": "stdout",
     "output_type": "stream",
     "text": [
      "(4156, 10) (3532, 10) (624, 10)\n"
     ]
    },
    {
     "name": "stderr",
     "output_type": "stream",
     "text": [
      "/home/paul/anaconda3/lib/python3.7/site-packages/numpy/core/fromnumeric.py:2389: FutureWarning: Method .ptp is deprecated and will be removed in a future version. Use numpy.ptp instead.\n",
      "  return ptp(axis=axis, out=out, **kwargs)\n"
     ]
    }
   ],
   "source": [
    "# Import the statsmodels.api library with the alias sm\n",
    "import statsmodels.api as sm\n",
    "\n",
    "# Add a constant to the features\n",
    "linear_features = sm.add_constant(features)\n",
    "\n",
    "# Create a size for the training set that is 85% of the total number of samples\n",
    "train_size = int(0.85 * features.shape[0])\n",
    "train_features = linear_features[:train_size]\n",
    "train_targets = targets[:train_size]\n",
    "test_features = linear_features[train_size:]\n",
    "test_targets = targets[train_size:]\n",
    "print(linear_features.shape, train_features.shape, test_features.shape)"
   ]
  },
  {
   "cell_type": "code",
   "execution_count": 13,
   "metadata": {},
   "outputs": [
    {
     "name": "stdout",
     "output_type": "stream",
     "text": [
      "                             OLS Regression Results                             \n",
      "================================================================================\n",
      "Dep. Variable:     loblaw_5d_future_pct   R-squared:                       0.019\n",
      "Model:                              OLS   Adj. R-squared:                  0.016\n",
      "Method:                   Least Squares   F-statistic:                     7.441\n",
      "Date:                  Sun, 20 Oct 2019   Prob (F-statistic):           7.68e-11\n",
      "Time:                          23:45:58   Log-Likelihood:                 7671.7\n",
      "No. Observations:                  3532   AIC:                        -1.532e+04\n",
      "Df Residuals:                      3522   BIC:                        -1.526e+04\n",
      "Df Model:                             9                                         \n",
      "Covariance Type:              nonrobust                                         \n",
      "=================================================================================\n",
      "                    coef    std err          t      P>|t|      [0.025      0.975]\n",
      "---------------------------------------------------------------------------------\n",
      "const             0.0779      0.061      1.278      0.201      -0.042       0.197\n",
      "loblaw_5d_pct    -0.1715      0.035     -4.959      0.000      -0.239      -0.104\n",
      "loblaw_ma14      -0.1862      0.066     -2.822      0.005      -0.316      -0.057\n",
      "loblaw_rsi14   6.211e-05      0.000      0.198      0.843      -0.001       0.001\n",
      "loblaw_ma30      -0.1488      0.057     -2.592      0.010      -0.261      -0.036\n",
      "loblaw_rsi30     -0.0019      0.001     -1.539      0.124      -0.004       0.001\n",
      "loblaw_ma50       0.1436      0.046      3.104      0.002       0.053       0.234\n",
      "loblaw_rsi50      0.0032      0.001      2.547      0.011       0.001       0.006\n",
      "loblaw_ma200      0.0547      0.021      2.662      0.008       0.014       0.095\n",
      "loblaw_rsi200    -0.0002      0.000     -0.670      0.503      -0.001       0.000\n",
      "==============================================================================\n",
      "Omnibus:                      625.255   Durbin-Watson:                   0.406\n",
      "Prob(Omnibus):                  0.000   Jarque-Bera (JB):             6906.202\n",
      "Skew:                           0.503   Prob(JB):                         0.00\n",
      "Kurtosis:                       9.776   Cond. No.                     2.05e+04\n",
      "==============================================================================\n",
      "\n",
      "Warnings:\n",
      "[1] Standard Errors assume that the covariance matrix of the errors is correctly specified.\n",
      "[2] The condition number is large, 2.05e+04. This might indicate that there are\n",
      "strong multicollinearity or other numerical problems.\n",
      "const            2.013818e-01\n",
      "loblaw_5d_pct    7.426289e-07\n",
      "loblaw_ma14      4.803087e-03\n",
      "loblaw_rsi14     8.427471e-01\n",
      "loblaw_ma30      9.581741e-03\n",
      "loblaw_rsi30     1.237829e-01\n",
      "loblaw_ma50      1.924140e-03\n",
      "loblaw_rsi50     1.089627e-02\n",
      "loblaw_ma200     7.793903e-03\n",
      "loblaw_rsi200    5.025893e-01\n",
      "dtype: float64\n"
     ]
    }
   ],
   "source": [
    "# Create the linear model and complete the least squares fit\n",
    "model = sm.OLS(train_targets, train_features)\n",
    "results = model.fit()  # fit the model\n",
    "print(results.summary())\n",
    "\n",
    "# examine pvalues\n",
    "# Features with p <= 0.05 are typically considered significantly different from 0\n",
    "print(results.pvalues)"
   ]
  },
  {
   "cell_type": "code",
   "execution_count": 14,
   "metadata": {},
   "outputs": [],
   "source": [
    "loblaw_df['loblaw_volume_1d_pct'] = df['loblaw_volume'].pct_change()\n",
    "loblaw_df['loblaw_volume_1d_pct_SMA'] = talib.SMA( loblaw_df['loblaw_volume_1d_pct'].values, timeperiod=5)"
   ]
  },
  {
   "cell_type": "code",
   "execution_count": 15,
   "metadata": {},
   "outputs": [],
   "source": [
    "feature_names.extend(['loblaw_volume_1d_pct', 'loblaw_volume_1d_pct_SMA'])"
   ]
  },
  {
   "cell_type": "code",
   "execution_count": 16,
   "metadata": {},
   "outputs": [
    {
     "data": {
      "text/plain": [
       "<matplotlib.axes._subplots.AxesSubplot at 0x7f8153ac46d8>"
      ]
     },
     "execution_count": 16,
     "metadata": {},
     "output_type": "execute_result"
    },
    {
     "data": {
      "image/png": "[encoded data removed]",
      "text/plain": [
       "<Figure size 432x288 with 1 Axes>"
      ]
     },
     "metadata": {
      "needs_background": "light"
     },
     "output_type": "display_data"
    }
   ],
   "source": [
    "loblaw_df[['loblaw_volume_1d_pct', 'loblaw_volume_1d_pct_SMA']].plot(kind='hist', sharex=False, bins=50)"
   ]
  },
  {
   "cell_type": "code",
   "execution_count": 17,
   "metadata": {},
   "outputs": [
    {
     "data": {
      "image/png": "[encoded data removed]",
      "text/plain": [
       "<Figure size 432x288 with 1 Axes>"
      ]
     },
     "metadata": {
      "needs_background": "light"
     },
     "output_type": "display_data"
    }
   ],
   "source": [
    "sns.boxplot(loblaw_df['loblaw_volume_1d_pct'])\n",
    "plt.xlabel('adjusted volume 1-day percent change')\n",
    "plt.show()"
   ]
  },
  {
   "cell_type": "code",
   "execution_count": 18,
   "metadata": {},
   "outputs": [],
   "source": [
    "# Use pandas' get_dummies function to get dummies for day of the week\n",
    "days_of_week = pd.get_dummies(loblaw_df.index.dayofweek,\n",
    "                              prefix='weekday',\n",
    "                              drop_first=True)\n",
    "\n",
    "# Set the index as the original dataframe index for merging\n",
    "days_of_week.index = loblaw_df.index\n",
    "\n",
    "# Join the dataframe with the days of week dataframe\n",
    "loblaw_df = pd.concat([loblaw_df, days_of_week], axis=1)\n",
    "\n",
    "loblaw_df.dropna(inplace=True)  # drop missing values in-place"
   ]
  },
  {
   "cell_type": "code",
   "execution_count": 19,
   "metadata": {},
   "outputs": [],
   "source": [
    "# Add days of week to feature names\n",
    "feature_names.extend(['weekday_' + str(i) for i in range(1, 5)])"
   ]
  },
  {
   "cell_type": "code",
   "execution_count": 20,
   "metadata": {},
   "outputs": [
    {
     "data": {
      "text/html": [
       "<div>\n",
       "<style scoped>\n",
       "    .dataframe tbody tr th:only-of-type {\n",
       "        vertical-align: middle;\n",
       "    }\n",
       "\n",
       "    .dataframe tbody tr th {\n",
       "        vertical-align: top;\n",
       "    }\n",
       "\n",
       "    .dataframe thead th {\n",
       "        text-align: right;\n",
       "    }\n",
       "</style>\n",
       "<table border=\"1\" class=\"dataframe\">\n",
       "  <thead>\n",
       "    <tr style=\"text-align: right;\">\n",
       "      <th></th>\n",
       "      <th>loblaw_5d_future_pct</th>\n",
       "      <th>loblaw_5d_pct</th>\n",
       "      <th>loblaw_ma14</th>\n",
       "      <th>loblaw_rsi14</th>\n",
       "      <th>loblaw_ma30</th>\n",
       "      <th>loblaw_rsi30</th>\n",
       "      <th>loblaw_ma50</th>\n",
       "      <th>loblaw_rsi50</th>\n",
       "      <th>loblaw_ma200</th>\n",
       "      <th>loblaw_rsi200</th>\n",
       "      <th>loblaw_volume_1d_pct</th>\n",
       "      <th>loblaw_volume_1d_pct_SMA</th>\n",
       "      <th>weekday_1</th>\n",
       "      <th>weekday_2</th>\n",
       "      <th>weekday_3</th>\n",
       "      <th>weekday_4</th>\n",
       "    </tr>\n",
       "    <tr>\n",
       "      <th>date</th>\n",
       "      <th></th>\n",
       "      <th></th>\n",
       "      <th></th>\n",
       "      <th></th>\n",
       "      <th></th>\n",
       "      <th></th>\n",
       "      <th></th>\n",
       "      <th></th>\n",
       "      <th></th>\n",
       "      <th></th>\n",
       "      <th></th>\n",
       "      <th></th>\n",
       "      <th></th>\n",
       "      <th></th>\n",
       "      <th></th>\n",
       "      <th></th>\n",
       "    </tr>\n",
       "  </thead>\n",
       "  <tbody>\n",
       "    <tr>\n",
       "      <th>2003-10-23</th>\n",
       "      <td>-0.001578</td>\n",
       "      <td>-0.002675</td>\n",
       "      <td>0.983585</td>\n",
       "      <td>61.577897</td>\n",
       "      <td>0.973791</td>\n",
       "      <td>56.521609</td>\n",
       "      <td>0.979603</td>\n",
       "      <td>55.546015</td>\n",
       "      <td>0.921842</td>\n",
       "      <td>55.463242</td>\n",
       "      <td>-0.012311</td>\n",
       "      <td>0.060062</td>\n",
       "      <td>0</td>\n",
       "      <td>0</td>\n",
       "      <td>1</td>\n",
       "      <td>0</td>\n",
       "    </tr>\n",
       "    <tr>\n",
       "      <th>2003-10-24</th>\n",
       "      <td>-0.000783</td>\n",
       "      <td>0.010755</td>\n",
       "      <td>0.979577</td>\n",
       "      <td>65.022482</td>\n",
       "      <td>0.967292</td>\n",
       "      <td>58.297135</td>\n",
       "      <td>0.971845</td>\n",
       "      <td>56.608940</td>\n",
       "      <td>0.915396</td>\n",
       "      <td>55.716001</td>\n",
       "      <td>-0.186969</td>\n",
       "      <td>0.080008</td>\n",
       "      <td>0</td>\n",
       "      <td>0</td>\n",
       "      <td>0</td>\n",
       "      <td>1</td>\n",
       "    </tr>\n",
       "    <tr>\n",
       "      <th>2003-10-27</th>\n",
       "      <td>0.006289</td>\n",
       "      <td>0.009044</td>\n",
       "      <td>0.986387</td>\n",
       "      <td>61.462842</td>\n",
       "      <td>0.972971</td>\n",
       "      <td>56.856319</td>\n",
       "      <td>0.976057</td>\n",
       "      <td>55.792369</td>\n",
       "      <td>0.920531</td>\n",
       "      <td>55.526018</td>\n",
       "      <td>-0.395819</td>\n",
       "      <td>-0.098716</td>\n",
       "      <td>0</td>\n",
       "      <td>0</td>\n",
       "      <td>0</td>\n",
       "      <td>0</td>\n",
       "    </tr>\n",
       "    <tr>\n",
       "      <th>2003-10-28</th>\n",
       "      <td>0.007881</td>\n",
       "      <td>0.000789</td>\n",
       "      <td>0.990893</td>\n",
       "      <td>59.701956</td>\n",
       "      <td>0.976323</td>\n",
       "      <td>56.138262</td>\n",
       "      <td>0.978147</td>\n",
       "      <td>55.384533</td>\n",
       "      <td>0.923517</td>\n",
       "      <td>55.430984</td>\n",
       "      <td>0.568627</td>\n",
       "      <td>-0.041949</td>\n",
       "      <td>1</td>\n",
       "      <td>0</td>\n",
       "      <td>0</td>\n",
       "      <td>0</td>\n",
       "    </tr>\n",
       "    <tr>\n",
       "      <th>2003-10-29</th>\n",
       "      <td>0.021812</td>\n",
       "      <td>0.000316</td>\n",
       "      <td>0.995880</td>\n",
       "      <td>57.570461</td>\n",
       "      <td>0.980060</td>\n",
       "      <td>55.271723</td>\n",
       "      <td>0.980938</td>\n",
       "      <td>54.893189</td>\n",
       "      <td>0.926942</td>\n",
       "      <td>55.316802</td>\n",
       "      <td>0.265441</td>\n",
       "      <td>0.047794</td>\n",
       "      <td>0</td>\n",
       "      <td>1</td>\n",
       "      <td>0</td>\n",
       "      <td>0</td>\n",
       "    </tr>\n",
       "  </tbody>\n",
       "</table>\n",
       "</div>"
      ],
      "text/plain": [
       "            loblaw_5d_future_pct  loblaw_5d_pct  loblaw_ma14  loblaw_rsi14  loblaw_ma30  loblaw_rsi30  loblaw_ma50  loblaw_rsi50  loblaw_ma200  loblaw_rsi200  loblaw_volume_1d_pct  loblaw_volume_1d_pct_SMA  weekday_1  weekday_2  weekday_3  weekday_4\n",
       "date                                                                                                                                                                                                                                                     \n",
       "2003-10-23 -0.001578             -0.002675       0.983585     61.577897     0.973791     56.521609     0.979603     55.546015     0.921842      55.463242     -0.012311              0.060062                  0          0          1          0        \n",
       "2003-10-24 -0.000783              0.010755       0.979577     65.022482     0.967292     58.297135     0.971845     56.608940     0.915396      55.716001     -0.186969              0.080008                  0          0          0          1        \n",
       "2003-10-27  0.006289              0.009044       0.986387     61.462842     0.972971     56.856319     0.976057     55.792369     0.920531      55.526018     -0.395819             -0.098716                  0          0          0          0        \n",
       "2003-10-28  0.007881              0.000789       0.990893     59.701956     0.976323     56.138262     0.978147     55.384533     0.923517      55.430984      0.568627             -0.041949                  1          0          0          0        \n",
       "2003-10-29  0.021812              0.000316       0.995880     57.570461     0.980060     55.271723     0.980938     54.893189     0.926942      55.316802      0.265441              0.047794                  0          1          0          0        "
      ]
     },
     "execution_count": 20,
     "metadata": {},
     "output_type": "execute_result"
    }
   ],
   "source": [
    "loblaw_df.head()"
   ]
  },
  {
   "cell_type": "code",
   "execution_count": 21,
   "metadata": {},
   "outputs": [
    {
     "data": {
      "text/html": [
       "<div>\n",
       "<style scoped>\n",
       "    .dataframe tbody tr th:only-of-type {\n",
       "        vertical-align: middle;\n",
       "    }\n",
       "\n",
       "    .dataframe tbody tr th {\n",
       "        vertical-align: top;\n",
       "    }\n",
       "\n",
       "    .dataframe thead th {\n",
       "        text-align: right;\n",
       "    }\n",
       "</style>\n",
       "<table border=\"1\" class=\"dataframe\">\n",
       "  <thead>\n",
       "    <tr style=\"text-align: right;\">\n",
       "      <th></th>\n",
       "      <th>loblaw_5d_future_pct</th>\n",
       "      <th>loblaw_5d_pct</th>\n",
       "      <th>loblaw_ma14</th>\n",
       "      <th>loblaw_rsi14</th>\n",
       "      <th>loblaw_ma30</th>\n",
       "      <th>loblaw_rsi30</th>\n",
       "      <th>loblaw_ma50</th>\n",
       "      <th>loblaw_rsi50</th>\n",
       "      <th>loblaw_ma200</th>\n",
       "      <th>loblaw_rsi200</th>\n",
       "      <th>loblaw_volume_1d_pct</th>\n",
       "      <th>loblaw_volume_1d_pct_SMA</th>\n",
       "      <th>weekday_1</th>\n",
       "      <th>weekday_2</th>\n",
       "      <th>weekday_3</th>\n",
       "      <th>weekday_4</th>\n",
       "    </tr>\n",
       "    <tr>\n",
       "      <th>date</th>\n",
       "      <th></th>\n",
       "      <th></th>\n",
       "      <th></th>\n",
       "      <th></th>\n",
       "      <th></th>\n",
       "      <th></th>\n",
       "      <th></th>\n",
       "      <th></th>\n",
       "      <th></th>\n",
       "      <th></th>\n",
       "      <th></th>\n",
       "      <th></th>\n",
       "      <th></th>\n",
       "      <th></th>\n",
       "      <th></th>\n",
       "      <th></th>\n",
       "    </tr>\n",
       "  </thead>\n",
       "  <tbody>\n",
       "    <tr>\n",
       "      <th>2019-10-07</th>\n",
       "      <td>-0.030688</td>\n",
       "      <td>-0.004638</td>\n",
       "      <td>0.996595</td>\n",
       "      <td>61.415627</td>\n",
       "      <td>0.981414</td>\n",
       "      <td>62.134346</td>\n",
       "      <td>0.960199</td>\n",
       "      <td>61.173941</td>\n",
       "      <td>0.895543</td>\n",
       "      <td>57.865880</td>\n",
       "      <td>-0.250884</td>\n",
       "      <td>-0.054802</td>\n",
       "      <td>0</td>\n",
       "      <td>0</td>\n",
       "      <td>0</td>\n",
       "      <td>0</td>\n",
       "    </tr>\n",
       "    <tr>\n",
       "      <th>2019-10-08</th>\n",
       "      <td>-0.019316</td>\n",
       "      <td>-0.010426</td>\n",
       "      <td>1.011945</td>\n",
       "      <td>51.644687</td>\n",
       "      <td>0.996961</td>\n",
       "      <td>57.259734</td>\n",
       "      <td>0.975908</td>\n",
       "      <td>58.174314</td>\n",
       "      <td>0.909560</td>\n",
       "      <td>57.078367</td>\n",
       "      <td>0.720491</td>\n",
       "      <td>0.110588</td>\n",
       "      <td>1</td>\n",
       "      <td>0</td>\n",
       "      <td>0</td>\n",
       "      <td>0</td>\n",
       "    </tr>\n",
       "    <tr>\n",
       "      <th>2019-10-09</th>\n",
       "      <td>-0.034120</td>\n",
       "      <td>-0.009749</td>\n",
       "      <td>1.011155</td>\n",
       "      <td>52.548033</td>\n",
       "      <td>0.996535</td>\n",
       "      <td>57.641703</td>\n",
       "      <td>0.975841</td>\n",
       "      <td>58.405556</td>\n",
       "      <td>0.909057</td>\n",
       "      <td>57.143498</td>\n",
       "      <td>0.207098</td>\n",
       "      <td>0.178590</td>\n",
       "      <td>0</td>\n",
       "      <td>1</td>\n",
       "      <td>0</td>\n",
       "      <td>0</td>\n",
       "    </tr>\n",
       "    <tr>\n",
       "      <th>2019-10-10</th>\n",
       "      <td>-0.026284</td>\n",
       "      <td>-0.023537</td>\n",
       "      <td>1.019659</td>\n",
       "      <td>46.888136</td>\n",
       "      <td>1.006795</td>\n",
       "      <td>54.612312</td>\n",
       "      <td>0.986885</td>\n",
       "      <td>56.493298</td>\n",
       "      <td>0.918864</td>\n",
       "      <td>56.625355</td>\n",
       "      <td>-0.103971</td>\n",
       "      <td>0.093303</td>\n",
       "      <td>0</td>\n",
       "      <td>0</td>\n",
       "      <td>1</td>\n",
       "      <td>0</td>\n",
       "    </tr>\n",
       "    <tr>\n",
       "      <th>2019-10-11</th>\n",
       "      <td>-0.024517</td>\n",
       "      <td>-0.024582</td>\n",
       "      <td>1.023529</td>\n",
       "      <td>43.916591</td>\n",
       "      <td>1.012795</td>\n",
       "      <td>52.933548</td>\n",
       "      <td>0.993884</td>\n",
       "      <td>55.413363</td>\n",
       "      <td>0.925023</td>\n",
       "      <td>56.325933</td>\n",
       "      <td>-0.276049</td>\n",
       "      <td>0.059337</td>\n",
       "      <td>0</td>\n",
       "      <td>0</td>\n",
       "      <td>0</td>\n",
       "      <td>1</td>\n",
       "    </tr>\n",
       "    <tr>\n",
       "      <th>2019-10-14</th>\n",
       "      <td>-0.021770</td>\n",
       "      <td>-0.030688</td>\n",
       "      <td>1.023502</td>\n",
       "      <td>42.500780</td>\n",
       "      <td>1.015697</td>\n",
       "      <td>52.124510</td>\n",
       "      <td>0.997824</td>\n",
       "      <td>54.890753</td>\n",
       "      <td>0.928491</td>\n",
       "      <td>56.180206</td>\n",
       "      <td>0.021145</td>\n",
       "      <td>0.113743</td>\n",
       "      <td>0</td>\n",
       "      <td>0</td>\n",
       "      <td>0</td>\n",
       "      <td>0</td>\n",
       "    </tr>\n",
       "    <tr>\n",
       "      <th>2019-10-15</th>\n",
       "      <td>-0.019008</td>\n",
       "      <td>-0.019316</td>\n",
       "      <td>1.023362</td>\n",
       "      <td>41.074726</td>\n",
       "      <td>1.018459</td>\n",
       "      <td>51.313193</td>\n",
       "      <td>1.001768</td>\n",
       "      <td>54.367541</td>\n",
       "      <td>0.931990</td>\n",
       "      <td>56.034505</td>\n",
       "      <td>0.020707</td>\n",
       "      <td>-0.026214</td>\n",
       "      <td>1</td>\n",
       "      <td>0</td>\n",
       "      <td>0</td>\n",
       "      <td>0</td>\n",
       "    </tr>\n",
       "    <tr>\n",
       "      <th>2019-10-16</th>\n",
       "      <td>-0.005585</td>\n",
       "      <td>-0.034120</td>\n",
       "      <td>1.033934</td>\n",
       "      <td>35.024542</td>\n",
       "      <td>1.031543</td>\n",
       "      <td>47.645715</td>\n",
       "      <td>1.016332</td>\n",
       "      <td>51.951935</td>\n",
       "      <td>0.945554</td>\n",
       "      <td>55.344891</td>\n",
       "      <td>0.605470</td>\n",
       "      <td>0.053460</td>\n",
       "      <td>0</td>\n",
       "      <td>1</td>\n",
       "      <td>0</td>\n",
       "      <td>0</td>\n",
       "    </tr>\n",
       "    <tr>\n",
       "      <th>2019-10-17</th>\n",
       "      <td>-0.003916</td>\n",
       "      <td>-0.026284</td>\n",
       "      <td>1.032423</td>\n",
       "      <td>34.357195</td>\n",
       "      <td>1.032142</td>\n",
       "      <td>47.218225</td>\n",
       "      <td>1.018851</td>\n",
       "      <td>51.665112</td>\n",
       "      <td>0.947907</td>\n",
       "      <td>55.261196</td>\n",
       "      <td>-0.262497</td>\n",
       "      <td>0.021755</td>\n",
       "      <td>0</td>\n",
       "      <td>0</td>\n",
       "      <td>1</td>\n",
       "      <td>0</td>\n",
       "    </tr>\n",
       "    <tr>\n",
       "      <th>2019-10-18</th>\n",
       "      <td>0.000000</td>\n",
       "      <td>-0.024517</td>\n",
       "      <td>1.032229</td>\n",
       "      <td>32.787385</td>\n",
       "      <td>1.034946</td>\n",
       "      <td>46.217287</td>\n",
       "      <td>1.023475</td>\n",
       "      <td>50.994784</td>\n",
       "      <td>0.952349</td>\n",
       "      <td>55.065914</td>\n",
       "      <td>-0.460810</td>\n",
       "      <td>-0.015197</td>\n",
       "      <td>0</td>\n",
       "      <td>0</td>\n",
       "      <td>0</td>\n",
       "      <td>1</td>\n",
       "    </tr>\n",
       "  </tbody>\n",
       "</table>\n",
       "</div>"
      ],
      "text/plain": [
       "            loblaw_5d_future_pct  loblaw_5d_pct  loblaw_ma14  loblaw_rsi14  loblaw_ma30  loblaw_rsi30  loblaw_ma50  loblaw_rsi50  loblaw_ma200  loblaw_rsi200  loblaw_volume_1d_pct  loblaw_volume_1d_pct_SMA  weekday_1  weekday_2  weekday_3  weekday_4\n",
       "date                                                                                                                                                                                                                                                     \n",
       "2019-10-07 -0.030688             -0.004638       0.996595     61.415627     0.981414     62.134346     0.960199     61.173941     0.895543      57.865880     -0.250884             -0.054802                  0          0          0          0        \n",
       "2019-10-08 -0.019316             -0.010426       1.011945     51.644687     0.996961     57.259734     0.975908     58.174314     0.909560      57.078367      0.720491              0.110588                  1          0          0          0        \n",
       "2019-10-09 -0.034120             -0.009749       1.011155     52.548033     0.996535     57.641703     0.975841     58.405556     0.909057      57.143498      0.207098              0.178590                  0          1          0          0        \n",
       "2019-10-10 -0.026284             -0.023537       1.019659     46.888136     1.006795     54.612312     0.986885     56.493298     0.918864      56.625355     -0.103971              0.093303                  0          0          1          0        \n",
       "2019-10-11 -0.024517             -0.024582       1.023529     43.916591     1.012795     52.933548     0.993884     55.413363     0.925023      56.325933     -0.276049              0.059337                  0          0          0          1        \n",
       "2019-10-14 -0.021770             -0.030688       1.023502     42.500780     1.015697     52.124510     0.997824     54.890753     0.928491      56.180206      0.021145              0.113743                  0          0          0          0        \n",
       "2019-10-15 -0.019008             -0.019316       1.023362     41.074726     1.018459     51.313193     1.001768     54.367541     0.931990      56.034505      0.020707             -0.026214                  1          0          0          0        \n",
       "2019-10-16 -0.005585             -0.034120       1.033934     35.024542     1.031543     47.645715     1.016332     51.951935     0.945554      55.344891      0.605470              0.053460                  0          1          0          0        \n",
       "2019-10-17 -0.003916             -0.026284       1.032423     34.357195     1.032142     47.218225     1.018851     51.665112     0.947907      55.261196     -0.262497              0.021755                  0          0          1          0        \n",
       "2019-10-18  0.000000             -0.024517       1.032229     32.787385     1.034946     46.217287     1.023475     50.994784     0.952349      55.065914     -0.460810             -0.015197                  0          0          0          1        "
      ]
     },
     "execution_count": 21,
     "metadata": {},
     "output_type": "execute_result"
    }
   ],
   "source": [
    "loblaw_df.tail(10)"
   ]
  },
  {
   "cell_type": "code",
   "execution_count": 22,
   "metadata": {},
   "outputs": [
    {
     "name": "stdout",
     "output_type": "stream",
     "text": [
      "(4152, 15) (3529, 15) (623, 15)\n",
      "(4152,) (3529,) (623,)\n"
     ]
    }
   ],
   "source": [
    "# Create a size for the training set that is 85% of the total number of samples\n",
    "features = loblaw_df[feature_names]\n",
    "targets = loblaw_df['loblaw_5d_future_pct']\n",
    "\n",
    "train_size = int(0.85 * features.shape[0])\n",
    "train_features = features[:train_size]\n",
    "train_targets = targets[:train_size]\n",
    "test_features = features[train_size:]\n",
    "test_targets = targets[train_size:]\n",
    "print(features.shape, train_features.shape, test_features.shape)\n",
    "print(targets.shape, train_targets.shape, test_targets.shape)"
   ]
  },
  {
   "cell_type": "code",
   "execution_count": 23,
   "metadata": {},
   "outputs": [
    {
     "name": "stdout",
     "output_type": "stream",
     "text": [
      "0.06582500245247735\n",
      "-0.03346537819884188\n"
     ]
    }
   ],
   "source": [
    "from sklearn.tree import DecisionTreeRegressor\n",
    "\n",
    "# Create a decision tree regression model with default arguments\n",
    "decision_tree = DecisionTreeRegressor(max_depth=3)\n",
    "\n",
    "# Fit the model to the training features and targets\n",
    "decision_tree.fit(train_features, train_targets)\n",
    "\n",
    "# Check the score on train and test\n",
    "print(decision_tree.score(train_features, train_targets))\n",
    "print(decision_tree.score(test_features, test_targets))"
   ]
  },
  {
   "cell_type": "code",
   "execution_count": 24,
   "metadata": {},
   "outputs": [
    {
     "name": "stdout",
     "output_type": "stream",
     "text": [
      "-0.019351372097282216 {'random_state': 42, 'n_estimators': 200, 'max_features': 4, 'max_depth': 3}\n"
     ]
    }
   ],
   "source": [
    "from sklearn.model_selection import ParameterGrid\n",
    "from sklearn.ensemble import RandomForestRegressor\n",
    "\n",
    "# Create a dictionary of hyperparameters to search\n",
    "grid = {'n_estimators':[200], 'max_depth': [3], 'max_features': [4,8], 'random_state': [42]}\n",
    "test_scores = []\n",
    "rfr = RandomForestRegressor()\n",
    "\n",
    "# Loop through the parameter grid, set the hyperparameters, and save the scores\n",
    "for g in ParameterGrid(grid):\n",
    "    rfr.set_params(**g)  # ** is \"unpacking\" the dictionary\n",
    "    rfr.fit(train_features, train_targets)\n",
    "    test_scores.append(rfr.score(test_features, test_targets))\n",
    "\n",
    "# Find best hyperparameters from the test score and print\n",
    "best_idx = np.argmax(test_scores)\n",
    "print(test_scores[best_idx], ParameterGrid(grid)[best_idx])"
   ]
  },
  {
   "cell_type": "code",
   "execution_count": 25,
   "metadata": {},
   "outputs": [
    {
     "name": "stdout",
     "output_type": "stream",
     "text": [
      "0.06982027078473896\n",
      "-0.019351372097282216\n"
     ]
    }
   ],
   "source": [
    "# Create the random forest model and fit to the training data\n",
    "rfr = RandomForestRegressor(n_estimators=200, max_features=4, max_depth=3, random_state=42)\n",
    "rfr.fit(train_features, train_targets)\n",
    "\n",
    "# Look at the R^2 scores on train and test\n",
    "print(rfr.score(train_features, train_targets))\n",
    "print(rfr.score(test_features, test_targets))"
   ]
  },
  {
   "cell_type": "code",
   "execution_count": 26,
   "metadata": {},
   "outputs": [
    {
     "data": {
      "image/png": "[encoded data removed]",
      "text/plain": [
       "<Figure size 432x288 with 1 Axes>"
      ]
     },
     "metadata": {
      "needs_background": "light"
     },
     "output_type": "display_data"
    }
   ],
   "source": [
    "# Get feature importances from our random forest model\n",
    "importances = rfr.feature_importances_\n",
    "\n",
    "# Get the index of importances from greatest importance to least\n",
    "sorted_index = np.argsort(importances)[::-1]\n",
    "x = range(len(importances))\n",
    "\n",
    "# Create tick labels \n",
    "labels = np.array(feature_names)[sorted_index]\n",
    "plt.bar(x, importances[sorted_index], tick_label=labels)\n",
    "\n",
    "# Rotate tick labels to vertical\n",
    "plt.xticks(rotation=90)\n",
    "plt.show()"
   ]
  },
  {
   "cell_type": "code",
   "execution_count": 27,
   "metadata": {},
   "outputs": [
    {
     "name": "stdout",
     "output_type": "stream",
     "text": [
      "(4152, 11) (3529, 11) (623, 11)\n",
      "(4152,) (3529,) (623,)\n"
     ]
    }
   ],
   "source": [
    "feature_names = feature_names[:-4]\n",
    "\n",
    "# Create a size for the training set that is 85% of the total number of samples\n",
    "features = loblaw_df[feature_names]\n",
    "targets = loblaw_df['loblaw_5d_future_pct']\n",
    "\n",
    "train_size = int(0.85 * features.shape[0])\n",
    "train_features = features[:train_size]\n",
    "train_targets = targets[:train_size]\n",
    "test_features = features[train_size:]\n",
    "test_targets = targets[train_size:]\n",
    "print(features.shape, train_features.shape, test_features.shape)\n",
    "print(targets.shape, train_targets.shape, test_targets.shape)"
   ]
  },
  {
   "cell_type": "code",
   "execution_count": 28,
   "metadata": {},
   "outputs": [
    {
     "data": {
      "image/png": "[encoded data removed]",
      "text/plain": [
       "<Figure size 432x288 with 2 Axes>"
      ]
     },
     "metadata": {
      "needs_background": "light"
     },
     "output_type": "display_data"
    }
   ],
   "source": [
    "from sklearn.preprocessing import scale\n",
    "\n",
    "# Standardize the train and test features\n",
    "scaled_train_features = scale(train_features)\n",
    "scaled_test_features = scale(test_features)\n",
    "\n",
    "# Plot histograms of the 14-day SMA RSI before and after scaling\n",
    "f, ax = plt.subplots(nrows=2, ncols=1)\n",
    "train_features.iloc[:, 2].hist(ax=ax[0])\n",
    "ax[1].hist(scaled_train_features[:, 2])\n",
    "plt.show()"
   ]
  },
  {
   "cell_type": "code",
   "execution_count": 29,
   "metadata": {},
   "outputs": [
    {
     "name": "stdout",
     "output_type": "stream",
     "text": [
      "n_neighbors = 2\n",
      "train, test scores\n",
      "0.7388663948339296\n",
      "-1.5471882421364862\n",
      "\n",
      "n_neighbors = 3\n",
      "train, test scores\n",
      "0.6133520709969994\n",
      "-1.2636882584989437\n",
      "\n",
      "n_neighbors = 4\n",
      "train, test scores\n",
      "0.5269506611489649\n",
      "-1.0446582360475456\n",
      "\n",
      "n_neighbors = 5\n",
      "train, test scores\n",
      "0.46475499656507785\n",
      "-0.8431314092331632\n",
      "\n",
      "n_neighbors = 6\n",
      "train, test scores\n",
      "0.418828264659219\n",
      "-0.7168938024576903\n",
      "\n",
      "n_neighbors = 7\n",
      "train, test scores\n",
      "0.3768475641097572\n",
      "-0.5937228333888618\n",
      "\n",
      "n_neighbors = 8\n",
      "train, test scores\n",
      "0.345493176560168\n",
      "-0.5032694776806093\n",
      "\n",
      "n_neighbors = 9\n",
      "train, test scores\n",
      "0.3132422137189165\n",
      "-0.4567912923087374\n",
      "\n"
     ]
    }
   ],
   "source": [
    "from sklearn.neighbors import KNeighborsRegressor\n",
    "\n",
    "for n in range(2,10):\n",
    "    # Create and fit the KNN model\n",
    "    knn = KNeighborsRegressor(n_neighbors=n)\n",
    "    \n",
    "    # Fit the model to the training data\n",
    "    knn.fit(scaled_train_features, train_targets)\n",
    "    \n",
    "    # Print number of neighbors and the score to find the best value of n\n",
    "    print(\"n_neighbors =\", n)\n",
    "    print('train, test scores')\n",
    "    print(knn.score(scaled_train_features, train_targets))\n",
    "    print(knn.score(scaled_test_features, test_targets))\n",
    "    print()  # prints a blank line"
   ]
  },
  {
   "cell_type": "code",
   "execution_count": 30,
   "metadata": {},
   "outputs": [
    {
     "data": {
      "image/png": "[encoded data removed]",
      "text/plain": [
       "<Figure size 432x288 with 1 Axes>"
      ]
     },
     "metadata": {
      "needs_background": "light"
     },
     "output_type": "display_data"
    }
   ],
   "source": [
    "# Create the model with the best-performing n_neighbors of 9\n",
    "knn = KNeighborsRegressor(n_neighbors=9)\n",
    "\n",
    "# Fit the model\n",
    "knn.fit(scaled_train_features, train_targets)\n",
    "\n",
    "# Get predictions for train and test sets\n",
    "train_predictions = knn.predict(scaled_train_features)\n",
    "test_predictions = knn.predict(scaled_test_features)\n",
    "\n",
    "# Plot the actual vs predicted values\n",
    "plt.scatter(train_predictions, train_targets, label='train')\n",
    "plt.scatter(test_predictions, test_targets, label='test')\n",
    "plt.legend()\n",
    "plt.show()"
   ]
  },
  {
   "cell_type": "code",
   "execution_count": 31,
   "metadata": {},
   "outputs": [
    {
     "name": "stderr",
     "output_type": "stream",
     "text": [
      "Using TensorFlow backend.\n"
     ]
    }
   ],
   "source": [
    "from keras.models import Sequential\n",
    "from keras.layers import Dense"
   ]
  },
  {
   "cell_type": "code",
   "execution_count": 32,
   "metadata": {},
   "outputs": [
    {
     "name": "stdout",
     "output_type": "stream",
     "text": [
      "WARNING:tensorflow:From /home/paul/anaconda3/lib/python3.7/site-packages/keras/backend/tensorflow_backend.py:74: The name tf.get_default_graph is deprecated. Please use tf.compat.v1.get_default_graph instead.\n",
      "\n",
      "WARNING:tensorflow:From /home/paul/anaconda3/lib/python3.7/site-packages/keras/backend/tensorflow_backend.py:517: The name tf.placeholder is deprecated. Please use tf.compat.v1.placeholder instead.\n",
      "\n",
      "WARNING:tensorflow:From /home/paul/anaconda3/lib/python3.7/site-packages/keras/backend/tensorflow_backend.py:4138: The name tf.random_uniform is deprecated. Please use tf.random.uniform instead.\n",
      "\n",
      "WARNING:tensorflow:From /home/paul/anaconda3/lib/python3.7/site-packages/keras/optimizers.py:790: The name tf.train.Optimizer is deprecated. Please use tf.compat.v1.train.Optimizer instead.\n",
      "\n",
      "WARNING:tensorflow:From /home/paul/anaconda3/lib/python3.7/site-packages/keras/backend/tensorflow_backend.py:986: The name tf.assign_add is deprecated. Please use tf.compat.v1.assign_add instead.\n",
      "\n",
      "WARNING:tensorflow:From /home/paul/anaconda3/lib/python3.7/site-packages/keras/backend/tensorflow_backend.py:973: The name tf.assign is deprecated. Please use tf.compat.v1.assign instead.\n",
      "\n",
      "Epoch 1/25\n",
      "3529/3529 [==============================] - 1s 248us/step - loss: 0.0165\n",
      "Epoch 2/25\n",
      "3529/3529 [==============================] - 0s 53us/step - loss: 0.0019\n",
      "Epoch 3/25\n",
      "3529/3529 [==============================] - 0s 47us/step - loss: 0.0014\n",
      "Epoch 4/25\n",
      "3529/3529 [==============================] - 0s 48us/step - loss: 0.0012\n",
      "Epoch 5/25\n",
      "3529/3529 [==============================] - 0s 51us/step - loss: 0.0010\n",
      "Epoch 6/25\n",
      "3529/3529 [==============================] - 0s 52us/step - loss: 9.5724e-04\n",
      "Epoch 7/25\n",
      "3529/3529 [==============================] - 0s 43us/step - loss: 9.2797e-04\n",
      "Epoch 8/25\n",
      "3529/3529 [==============================] - 0s 43us/step - loss: 8.8797e-04\n",
      "Epoch 9/25\n",
      "3529/3529 [==============================] - 0s 46us/step - loss: 8.5771e-04\n",
      "Epoch 10/25\n",
      "3529/3529 [==============================] - 0s 53us/step - loss: 8.3344e-04\n",
      "Epoch 11/25\n",
      "3529/3529 [==============================] - 0s 47us/step - loss: 8.0584e-04\n",
      "Epoch 12/25\n",
      "3529/3529 [==============================] - 0s 44us/step - loss: 9.9763e-04\n",
      "Epoch 13/25\n",
      "3529/3529 [==============================] - 0s 47us/step - loss: 0.0013\n",
      "Epoch 14/25\n",
      "3529/3529 [==============================] - 0s 46us/step - loss: 7.7820e-04\n",
      "Epoch 15/25\n",
      "3529/3529 [==============================] - 0s 48us/step - loss: 7.4525e-04\n",
      "Epoch 16/25\n",
      "3529/3529 [==============================] - 0s 48us/step - loss: 7.4381e-04\n",
      "Epoch 17/25\n",
      "3529/3529 [==============================] - 0s 48us/step - loss: 0.0012\n",
      "Epoch 18/25\n",
      "3529/3529 [==============================] - 0s 46us/step - loss: 9.1335e-04\n",
      "Epoch 19/25\n",
      "3529/3529 [==============================] - 0s 45us/step - loss: 7.0329e-04\n",
      "Epoch 20/25\n",
      "3529/3529 [==============================] - 0s 50us/step - loss: 7.0855e-04\n",
      "Epoch 21/25\n",
      "3529/3529 [==============================] - 0s 47us/step - loss: 7.0838e-04\n",
      "Epoch 22/25\n",
      "3529/3529 [==============================] - 0s 45us/step - loss: 7.2249e-04\n",
      "Epoch 23/25\n",
      "3529/3529 [==============================] - 0s 50us/step - loss: 7.0076e-04\n",
      "Epoch 24/25\n",
      "3529/3529 [==============================] - 0s 50us/step - loss: 7.3191e-04\n",
      "Epoch 25/25\n",
      "3529/3529 [==============================] - 0s 47us/step - loss: 6.6860e-04\n"
     ]
    }
   ],
   "source": [
    "# Create the model\n",
    "model_1 = Sequential()\n",
    "model_1.add(Dense(100, input_dim=scaled_train_features.shape[1], activation='relu'))\n",
    "model_1.add(Dense(20, activation='relu'))\n",
    "model_1.add(Dense(1, activation='linear'))\n",
    "\n",
    "# Fit the model\n",
    "model_1.compile(optimizer='adam', loss='mse')\n",
    "history = model_1.fit(scaled_train_features, train_targets, epochs=25)"
   ]
  },
  {
   "cell_type": "code",
   "execution_count": 33,
   "metadata": {},
   "outputs": [
    {
     "data": {
      "image/png": "[encoded data removed]",
      "text/plain": [
       "<Figure size 432x288 with 1 Axes>"
      ]
     },
     "metadata": {
      "needs_background": "light"
     },
     "output_type": "display_data"
    }
   ],
   "source": [
    "# Plot the losses from the fit\n",
    "plt.plot(history.history['loss'])\n",
    "\n",
    "# Use the last loss as the title\n",
    "plt.title('loss:' + str(round(history.history['loss'][-1], 6)))\n",
    "plt.show()"
   ]
  },
  {
   "cell_type": "code",
   "execution_count": 34,
   "metadata": {},
   "outputs": [
    {
     "name": "stdout",
     "output_type": "stream",
     "text": [
      "0.04033578758797851\n",
      "-0.7235582213786773\n"
     ]
    },
    {
     "data": {
      "image/png": "[encoded data removed]",
      "text/plain": [
       "<Figure size 432x288 with 1 Axes>"
      ]
     },
     "metadata": {
      "needs_background": "light"
     },
     "output_type": "display_data"
    }
   ],
   "source": [
    "from sklearn.metrics import r2_score\n",
    "\n",
    "# Calculate R^2 score\n",
    "train_preds = model_1.predict(scaled_train_features)\n",
    "test_preds = model_1.predict(scaled_test_features)\n",
    "print(r2_score(train_targets, train_preds))\n",
    "print(r2_score(test_targets, test_preds))\n",
    "\n",
    "# Plot predictions vs actual\n",
    "plt.scatter(train_preds, train_targets, label='train')\n",
    "plt.scatter(test_preds, test_targets, label='test')\n",
    "plt.legend()\n",
    "plt.show()"
   ]
  },
  {
   "cell_type": "code",
   "execution_count": 35,
   "metadata": {},
   "outputs": [
    {
     "name": "stdout",
     "output_type": "stream",
     "text": [
      "<function sign_penalty at 0x7f8128230950>\n"
     ]
    }
   ],
   "source": [
    "import keras.losses\n",
    "import tensorflow as tf\n",
    "\n",
    "# Create loss function\n",
    "def sign_penalty(y_true, y_pred):\n",
    "    penalty = 100.\n",
    "    loss = tf.where(tf.less(y_true * y_pred, 0), \\\n",
    "                     penalty * tf.square(y_true - y_pred), \\\n",
    "                     tf.square(y_true - y_pred))\n",
    "\n",
    "    return tf.reduce_mean(loss, axis=-1)\n",
    "\n",
    "keras.losses.sign_penalty = sign_penalty  # enable use of loss with keras\n",
    "print(keras.losses.sign_penalty)"
   ]
  },
  {
   "cell_type": "code",
   "execution_count": 36,
   "metadata": {},
   "outputs": [
    {
     "name": "stdout",
     "output_type": "stream",
     "text": [
      "WARNING:tensorflow:From <ipython-input-35-ffb28acc90d3>:7: add_dispatch_support.<locals>.wrapper (from tensorflow.python.ops.array_ops) is deprecated and will be removed in a future version.\n",
      "Instructions for updating:\n",
      "Use tf.where in 2.0, which has the same broadcast rule as np.where\n",
      "Epoch 1/25\n",
      "3529/3529 [==============================] - 1s 276us/step - loss: 0.6646\n",
      "Epoch 2/25\n",
      "3529/3529 [==============================] - 0s 54us/step - loss: 0.2125\n",
      "Epoch 3/25\n",
      "3529/3529 [==============================] - 0s 54us/step - loss: 0.1116\n",
      "Epoch 4/25\n",
      "3529/3529 [==============================] - 0s 61us/step - loss: 0.0873\n",
      "Epoch 5/25\n",
      "3529/3529 [==============================] - 0s 54us/step - loss: 0.0798\n",
      "Epoch 6/25\n",
      "3529/3529 [==============================] - 0s 56us/step - loss: 0.0739\n",
      "Epoch 7/25\n",
      "3529/3529 [==============================] - 0s 58us/step - loss: 0.0692\n",
      "Epoch 8/25\n",
      "3529/3529 [==============================] - 0s 54us/step - loss: 0.0565\n",
      "Epoch 9/25\n",
      "3529/3529 [==============================] - 0s 57us/step - loss: 0.0793\n",
      "Epoch 10/25\n",
      "3529/3529 [==============================] - 0s 57us/step - loss: 0.0611\n",
      "Epoch 11/25\n",
      "3529/3529 [==============================] - 0s 55us/step - loss: 0.0532\n",
      "Epoch 12/25\n",
      "3529/3529 [==============================] - 0s 56us/step - loss: 0.0453\n",
      "Epoch 13/25\n",
      "3529/3529 [==============================] - 0s 64us/step - loss: 0.0469\n",
      "Epoch 14/25\n",
      "3529/3529 [==============================] - 0s 65us/step - loss: 0.0529\n",
      "Epoch 15/25\n",
      "3529/3529 [==============================] - 0s 64us/step - loss: 0.0888\n",
      "Epoch 16/25\n",
      "3529/3529 [==============================] - 0s 57us/step - loss: 0.1621\n",
      "Epoch 17/25\n",
      "3529/3529 [==============================] - 0s 58us/step - loss: 0.1849\n",
      "Epoch 18/25\n",
      "3529/3529 [==============================] - 0s 58us/step - loss: 0.0619\n",
      "Epoch 19/25\n",
      "3529/3529 [==============================] - 0s 56us/step - loss: 0.0438\n",
      "Epoch 20/25\n",
      "3529/3529 [==============================] - 0s 60us/step - loss: 0.0399\n",
      "Epoch 21/25\n",
      "3529/3529 [==============================] - 0s 56us/step - loss: 0.0367\n",
      "Epoch 22/25\n",
      "3529/3529 [==============================] - 0s 56us/step - loss: 0.0343\n",
      "Epoch 23/25\n",
      "3529/3529 [==============================] - 0s 57us/step - loss: 0.0356\n",
      "Epoch 24/25\n",
      "3529/3529 [==============================] - 0s 55us/step - loss: 0.0325\n",
      "Epoch 25/25\n",
      "3529/3529 [==============================] - 0s 55us/step - loss: 0.0307\n"
     ]
    },
    {
     "data": {
      "image/png": "[encoded data removed]",
      "text/plain": [
       "<Figure size 432x288 with 1 Axes>"
      ]
     },
     "metadata": {
      "needs_background": "light"
     },
     "output_type": "display_data"
    }
   ],
   "source": [
    "# Create the model\n",
    "model_2 = Sequential()\n",
    "model_2.add(Dense(100, input_dim=scaled_train_features.shape[1], activation='relu'))\n",
    "model_2.add(Dense(20, activation='relu'))\n",
    "model_2.add(Dense(1, activation='linear'))\n",
    "\n",
    "# Fit the model with our custom 'sign_penalty' loss function\n",
    "model_2.compile(optimizer='adam', loss=sign_penalty)\n",
    "history = model_2.fit(scaled_train_features, train_targets, epochs=25)\n",
    "plt.plot(history.history['loss'])\n",
    "plt.title('loss:' + str(round(history.history['loss'][-1], 6)))\n",
    "plt.show()"
   ]
  },
  {
   "cell_type": "code",
   "execution_count": 37,
   "metadata": {},
   "outputs": [
    {
     "name": "stdout",
     "output_type": "stream",
     "text": [
      "0.08629465712739415\n",
      "-0.33583340811791706\n"
     ]
    },
    {
     "data": {
      "image/png": "[encoded data removed]",
      "text/plain": [
       "<Figure size 432x288 with 1 Axes>"
      ]
     },
     "metadata": {
      "needs_background": "light"
     },
     "output_type": "display_data"
    }
   ],
   "source": [
    "# Evaluate R^2 scores\n",
    "train_preds = model_2.predict(scaled_train_features)\n",
    "test_preds = model_2.predict(scaled_test_features)\n",
    "print(r2_score(train_targets, train_preds))\n",
    "print(r2_score(test_targets, test_preds))\n",
    "\n",
    "# Scatter the predictions vs actual -- this one is interesting!\n",
    "plt.scatter(train_preds, train_targets, label='train')\n",
    "plt.scatter(test_preds, test_targets, label='test')  # plot test set\n",
    "plt.legend(); plt.show()"
   ]
  },
  {
   "cell_type": "code",
   "execution_count": 38,
   "metadata": {},
   "outputs": [
    {
     "name": "stdout",
     "output_type": "stream",
     "text": [
      "WARNING:tensorflow:From /home/paul/anaconda3/lib/python3.7/site-packages/keras/backend/tensorflow_backend.py:3445: calling dropout (from tensorflow.python.ops.nn_ops) with keep_prob is deprecated and will be removed in a future version.\n",
      "Instructions for updating:\n",
      "Please use `rate` instead of `keep_prob`. Rate should be set to `rate = 1 - keep_prob`.\n",
      "Epoch 1/25\n",
      "3529/3529 [==============================] - 1s 303us/step - loss: 0.0262\n",
      "Epoch 2/25\n",
      "3529/3529 [==============================] - 0s 66us/step - loss: 0.0069\n",
      "Epoch 3/25\n",
      "3529/3529 [==============================] - 0s 62us/step - loss: 0.0035\n",
      "Epoch 4/25\n",
      "3529/3529 [==============================] - 0s 58us/step - loss: 0.0022\n",
      "Epoch 5/25\n",
      "3529/3529 [==============================] - 0s 64us/step - loss: 0.0018\n",
      "Epoch 6/25\n",
      "3529/3529 [==============================] - 0s 55us/step - loss: 0.0014\n",
      "Epoch 7/25\n",
      "3529/3529 [==============================] - 0s 56us/step - loss: 0.0012\n",
      "Epoch 8/25\n",
      "3529/3529 [==============================] - 0s 64us/step - loss: 9.6428e-04\n",
      "Epoch 9/25\n",
      "3529/3529 [==============================] - 0s 58us/step - loss: 9.3221e-04\n",
      "Epoch 10/25\n",
      "3529/3529 [==============================] - 0s 62us/step - loss: 9.1271e-04\n",
      "Epoch 11/25\n",
      "3529/3529 [==============================] - 0s 63us/step - loss: 8.6206e-04\n",
      "Epoch 12/25\n",
      "3529/3529 [==============================] - 0s 70us/step - loss: 8.3364e-04\n",
      "Epoch 13/25\n",
      "3529/3529 [==============================] - 0s 66us/step - loss: 8.0977e-04\n",
      "Epoch 14/25\n",
      "3529/3529 [==============================] - 0s 58us/step - loss: 8.4929e-04\n",
      "Epoch 15/25\n",
      "3529/3529 [==============================] - 0s 71us/step - loss: 8.3961e-04\n",
      "Epoch 16/25\n",
      "3529/3529 [==============================] - 0s 70us/step - loss: 8.0789e-04\n",
      "Epoch 17/25\n",
      "3529/3529 [==============================] - 0s 80us/step - loss: 8.1819e-04\n",
      "Epoch 18/25\n",
      "3529/3529 [==============================] - 0s 64us/step - loss: 7.9478e-04\n",
      "Epoch 19/25\n",
      "3529/3529 [==============================] - 0s 65us/step - loss: 7.9166e-04\n",
      "Epoch 20/25\n",
      "3529/3529 [==============================] - 0s 83us/step - loss: 7.8725e-04\n",
      "Epoch 21/25\n",
      "3529/3529 [==============================] - 0s 58us/step - loss: 7.9876e-04\n",
      "Epoch 22/25\n",
      "3529/3529 [==============================] - 0s 69us/step - loss: 7.8283e-04\n",
      "Epoch 23/25\n",
      "3529/3529 [==============================] - 0s 61us/step - loss: 7.8444e-04\n",
      "Epoch 24/25\n",
      "3529/3529 [==============================] - 0s 63us/step - loss: 7.9336e-04\n",
      "Epoch 25/25\n",
      "3529/3529 [==============================] - 0s 65us/step - loss: 7.7926e-04\n"
     ]
    },
    {
     "data": {
      "image/png": "[encoded data removed]",
      "text/plain": [
       "<Figure size 432x288 with 1 Axes>"
      ]
     },
     "metadata": {
      "needs_background": "light"
     },
     "output_type": "display_data"
    }
   ],
   "source": [
    "from keras.layers import Dropout\n",
    "\n",
    "# Create model with dropout\n",
    "model_3 = Sequential()\n",
    "model_3.add(Dense(100, input_dim=scaled_train_features.shape[1], activation='relu'))\n",
    "model_3.add(Dropout(0.2))\n",
    "model_3.add(Dense(20, activation='relu'))\n",
    "model_3.add(Dense(1, activation='linear'))\n",
    "\n",
    "# Fit model with mean squared error loss function\n",
    "model_3.compile(optimizer='adam', loss='mse')\n",
    "history = model_3.fit(scaled_train_features, train_targets, epochs=25)\n",
    "plt.plot(history.history['loss'])\n",
    "plt.title('loss:' + str(round(history.history['loss'][-1], 6)))\n",
    "plt.show()"
   ]
  },
  {
   "cell_type": "code",
   "execution_count": 39,
   "metadata": {},
   "outputs": [
    {
     "name": "stdout",
     "output_type": "stream",
     "text": [
      "[0.01287378 0.004307   0.01232645 0.01424656 0.01246542]\n"
     ]
    }
   ],
   "source": [
    "# Make predictions from the 3 neural net models\n",
    "train_pred1 = model_1.predict(scaled_train_features)\n",
    "test_pred1 = model_1.predict(scaled_test_features)\n",
    "\n",
    "train_pred2 = model_2.predict(scaled_train_features)\n",
    "test_pred2 = model_2.predict(scaled_test_features)\n",
    "\n",
    "train_pred3 = model_3.predict(scaled_train_features)\n",
    "test_pred3 = model_3.predict(scaled_test_features)\n",
    "\n",
    "# Horizontally stack predictions and take the average across rows\n",
    "train_preds = np.mean(np.hstack((train_pred1, train_pred2, train_pred3)), axis=1)\n",
    "test_preds = np.mean(np.hstack((test_pred1, test_pred2, test_pred3)), axis=1)\n",
    "print(test_preds[-5:])"
   ]
  },
  {
   "cell_type": "code",
   "execution_count": 40,
   "metadata": {},
   "outputs": [
    {
     "name": "stdout",
     "output_type": "stream",
     "text": [
      "0.14571687754203033\n",
      "-0.1270452562431179\n"
     ]
    },
    {
     "data": {
      "image/png": "[encoded data removed]",
      "text/plain": [
       "<Figure size 432x288 with 1 Axes>"
      ]
     },
     "metadata": {
      "needs_background": "light"
     },
     "output_type": "display_data"
    }
   ],
   "source": [
    "from sklearn.metrics import r2_score\n",
    "\n",
    "# Evaluate the R^2 scores\n",
    "print(r2_score(train_targets, train_preds))\n",
    "print(r2_score(test_targets, test_preds))\n",
    "\n",
    "# Scatter the predictions vs actual -- this one is interesting!\n",
    "plt.scatter(train_preds, train_targets, label='train')\n",
    "plt.scatter(test_preds, test_targets, label='test')\n",
    "plt.legend(); plt.show()"
   ]
  },
  {
   "cell_type": "code",
   "execution_count": null,
   "metadata": {},
   "outputs": [],
   "source": []
  }
 ],
 "metadata": {
  "file_extension": ".py",
  "kernelspec": {
   "display_name": "Python 3",
   "language": "python",
   "name": "python3"
  },
  "language_info": {
   "codemirror_mode": {
    "name": "ipython",
    "version": 3
   },
   "file_extension": ".py",
   "mimetype": "text/x-python",
   "name": "python",
   "nbconvert_exporter": "python",
   "pygments_lexer": "ipython3",
   "version": "3.7.3"
  },
  "mimetype": "text/x-python",
  "name": "python",
  "npconvert_exporter": "python",
  "pygments_lexer": "ipython3",
  "version": 3
 },
 "nbformat": 4,
 "nbformat_minor": 4
}
