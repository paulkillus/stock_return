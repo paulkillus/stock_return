{
 "cells": [
  {
   "cell_type": "markdown",
   "metadata": {},
   "source": [
    "# Project: Predicting Stock Price & Return  \n",
    "Data acquisition and initial exploration\n",
    "## ver 0.1\n",
    "All guidance and guidlines provided by Romeo Kienzler"
   ]
  },
  {
   "cell_type": "markdown",
   "metadata": {},
   "source": [
    "### Guidance - Initial data exploration    \n",
    "\n",
    "This task is crucial for understanding your data. Data quality is the most important driver for success in any data science project. So, this task lets you address data quality from the beginning. This includes going back to the data owners and asking them for better quality data, if applicable."
   ]
  },
  {
   "cell_type": "markdown",
   "metadata": {},
   "source": [
    "### Data Source - Technology Choice and Justification  \n",
    "\n",
    "We want to focus on one stock in this project, which is Loblaw Companies Ltd (TSX:L). We need to get stock prices and volumns, economic indecis for at least 15 years period.\n",
    "\n",
    "For testing the ideas, we want to find some free solutions first. If the ideas work, we can switch to commercial solutions in the future.\n",
    "\n",
    "After a few experiments, we decided to use alphavantage api to retrieve stock prices and pandas-datareader.BankOfCanadaReader to get economic indecis.\n",
    "\n",
    "We tried to use pytrend package to scrap google trend data, but the current verson has some dependancy issues. So we decided to directly download from google trend website.\n",
    "\n"
   ]
  },
  {
   "cell_type": "markdown",
   "metadata": {},
   "source": [
    "### Enterprise Data - Technology Choice and Justification  \n",
    "We don't have Enterprise data in this project."
   ]
  },
  {
   "cell_type": "markdown",
   "metadata": {},
   "source": [
    "### Streaming Analytics - Technology Choice and Justification  \n",
    "The stock data can be updated every business day using the API. The economic indecis and google trend data can be updated weekly or monthly. \n",
    "\n",
    "Currently we collect the data manually. In the future we plan to write a python script and schedule it running on google cloud computer everyday after the market is closed.\n",
    "\n",
    "The reason that we choose google is because it is free and easy to deploy."
   ]
  },
  {
   "cell_type": "markdown",
   "metadata": {},
   "source": [
    "#### 0. Import packages"
   ]
  },
  {
   "cell_type": "code",
   "execution_count": 3,
   "metadata": {},
   "outputs": [],
   "source": [
    "#import packages\n",
    "import pandas as pd\n",
    "import matplotlib.pyplot as plt\n",
    "import seaborn as sns\n",
    "from datetime import date\n",
    "\n",
    "\n",
    "import pandas_datareader as pdr\n",
    "from pandas_datareader import DataReader\n",
    "from pandas_datareader.bankofcanada import BankOfCanadaReader\n",
    "\n",
    "import requests\n",
    "from time import sleep"
   ]
  },
  {
   "cell_type": "code",
   "execution_count": 4,
   "metadata": {},
   "outputs": [],
   "source": [
    "#let the notebook display full length of the data columns\n",
    "pd.set_option('display.max_columns', None)  \n",
    "pd.set_option('display.expand_frame_repr', False)\n",
    "pd.set_option('max_colwidth', -1)"
   ]
  },
  {
   "cell_type": "markdown",
   "metadata": {},
   "source": [
    "#### 1. Read the stock prices of Loblaw Companies Ltd, competitors and indices"
   ]
  },
  {
   "cell_type": "code",
   "execution_count": 3,
   "metadata": {},
   "outputs": [],
   "source": [
    "def get_stock(symbol):\n",
    "    '''\n",
    "    Get stock daily adjuested close price and volume using alphavantage API\n",
    "    '''\n",
    "    apikey = \"39ID5KS0RJQLNZGL\"\n",
    "    base_url = \"https://www.alphavantage.co/query?\"\n",
    "    function = \"TIME_SERIES_DAILY_ADJUSTED\"\n",
    "    outputsize = \"full\"\n",
    "    \n",
    "    #construct the api url\n",
    "    url = base_url + \"function={}&symbol={}&outputsize={}&apikey={}\".format(\n",
    "    function, symbol, outputsize, apikey)\n",
    "\n",
    "    r = requests.get(url)\n",
    "    \n",
    "    #parse the result, change the datatypes \n",
    "    try:\n",
    "        df = pd.DataFrame(r.json()['Time Series (Daily)']).transpose(\n",
    "            )[['5. adjusted close','6. volume']].reset_index()\n",
    "    except:\n",
    "        print(\"Cannot get stock price\")\n",
    "        return None\n",
    "    df.columns = ['date','price','volume']\n",
    "    df['date'] = pd.to_datetime(df['date'])\n",
    "    df['price'] = pd.to_numeric(df['price'])\n",
    "    df['volume'] = pd.to_numeric(df['volume'])\n",
    "    df = df.set_index('date')\n",
    "    \n",
    "    print(\"Successfully read stock price: {}, from {} to {}\".format(symbol, df.index[-1], df.index[0]))\n",
    "    return df"
   ]
  },
  {
   "cell_type": "code",
   "execution_count": 17,
   "metadata": {},
   "outputs": [
    {
     "name": "stdout",
     "output_type": "stream",
     "text": [
      "Successfully read stock price: TSX:L, from 2000-01-04 00:00:00 to 2019-10-18 00:00:00\n",
      "Successfully read stock price: TSX:MRU, from 2000-01-03 00:00:00 to 2019-10-18 00:00:00\n",
      "Successfully read stock price: EMP-A.TO, from 2000-01-03 00:00:00 to 2019-10-18 00:00:00\n",
      "Successfully read stock price: TSE:WN, from 2000-01-04 00:00:00 to 2019-10-18 00:00:00\n",
      "Successfully read stock price: ATD-B.TO, from 2000-01-03 00:00:00 to 2019-10-18 00:00:00\n",
      "Successfully read stock price: ^GSPTSE, from 2000-01-03 00:00:00 to 2019-10-18 00:00:00\n",
      "Successfully read stock price: ^GSPC, from 2000-01-03 00:00:00 to 2019-10-18 00:00:00\n"
     ]
    }
   ],
   "source": [
    "#Loblaw Companies Limited is the largest Canadian food retailer\n",
    "loblaw = get_stock(\"TSX:L\")\n",
    "sleep(1) #stop for a while because we are using a free API. \n",
    "#Metro Inc., a Canadian food retailer \n",
    "metro = get_stock(\"TSX:MRU\")\n",
    "sleep(1) #stop for a while because we are using a free API. \n",
    "#Empire Company Limited, the parent company of Sobeys, another Canadian food retailer\n",
    "empa = get_stock(\"EMP-A.TO\")\n",
    "sleep(1) #stop for a while because we are using a free API. \n",
    "#George Weston Limited, a Canadian food processing and distribution company\n",
    "gwl = get_stock(\"TSE:WN\")\n",
    "sleep(1) #stop for a while because we are using a free API. \n",
    "#Alimentation Couche-Tard, a Candian multinational operator of convenience stores\n",
    "atd = get_stock(\"ATD-B.TO\")\n",
    "sleep(1) #stop for a while because we are using a free API. \n",
    "#S&P/TSX composite index, the benchmark Canadian index representing roughly 70% of the total market capitalization of the TSE companies\n",
    "tsx = get_stock(\"^GSPTSE\")\n",
    "sleep(1) #stop for a while because we are using a free API. \n",
    "#S&P500, the stock market index that measures the stock performance of 500 large companies listed on stock exchanges of the US\n",
    "sp500 = get_stock(\"^GSPC\")"
   ]
  },
  {
   "cell_type": "markdown",
   "metadata": {},
   "source": [
    "#### 2. Inspect the stock data\n",
    "\n",
    "Now we have the stocks' daily adjusted close price and volume from 2000-Jan to the 2019-Oct. DataFrame.info() and DataFrame.describe() shows that there is no N/A value in the data set. However, the price and volume could be zero in some specific days."
   ]
  },
  {
   "cell_type": "code",
   "execution_count": 12,
   "metadata": {},
   "outputs": [
    {
     "name": "stdout",
     "output_type": "stream",
     "text": [
      "<class 'pandas.core.frame.DataFrame'>\n",
      "DatetimeIndex: 5019 entries, 2019-10-18 to 2000-01-04\n",
      "Data columns (total 2 columns):\n",
      "price     5019 non-null float64\n",
      "volume    5019 non-null int64\n",
      "dtypes: float64(1), int64(1)\n",
      "memory usage: 117.6 KB\n",
      "None\n",
      "             price        volume\n",
      "count  5019.000000  5.019000e+03\n",
      "mean   35.577743    5.293163e+05\n",
      "std    12.862054    5.922035e+05\n",
      "min    0.000000     0.000000e+00\n",
      "25%    26.289250    2.512000e+05\n",
      "50%    32.522400    4.141000e+05\n",
      "75%    44.044900    6.444000e+05\n",
      "max    75.770000    1.482520e+07\n",
      "            price  volume\n",
      "date                     \n",
      "2019-10-18  71.22  284800\n",
      "2019-10-17  71.50  528200\n",
      "2019-10-16  71.62  716200\n",
      "2019-10-15  72.60  446100\n",
      "2019-10-11  73.01  428000\n",
      "              price  volume\n",
      "date                       \n",
      "2000-01-10  18.3117  344400\n",
      "2000-01-07  18.3689  215900\n",
      "2000-01-06  18.6264  186100\n",
      "2000-01-05  19.0556  745400\n",
      "2000-01-04  19.4276  206500\n"
     ]
    }
   ],
   "source": [
    "print(loblaw.info())\n",
    "print(loblaw.describe())\n",
    "print(loblaw.head())\n",
    "print(loblaw.tail())"
   ]
  },
  {
   "cell_type": "code",
   "execution_count": 13,
   "metadata": {},
   "outputs": [
    {
     "data": {
      "text/html": [
       "<div>\n",
       "<style scoped>\n",
       "    .dataframe tbody tr th:only-of-type {\n",
       "        vertical-align: middle;\n",
       "    }\n",
       "\n",
       "    .dataframe tbody tr th {\n",
       "        vertical-align: top;\n",
       "    }\n",
       "\n",
       "    .dataframe thead th {\n",
       "        text-align: right;\n",
       "    }\n",
       "</style>\n",
       "<table border=\"1\" class=\"dataframe\">\n",
       "  <thead>\n",
       "    <tr style=\"text-align: right;\">\n",
       "      <th></th>\n",
       "      <th>price</th>\n",
       "      <th>volume</th>\n",
       "    </tr>\n",
       "  </thead>\n",
       "  <tbody>\n",
       "    <tr>\n",
       "      <th>count</th>\n",
       "      <td>5019.000000</td>\n",
       "      <td>5.019000e+03</td>\n",
       "    </tr>\n",
       "    <tr>\n",
       "      <th>mean</th>\n",
       "      <td>35.577743</td>\n",
       "      <td>5.293163e+05</td>\n",
       "    </tr>\n",
       "    <tr>\n",
       "      <th>std</th>\n",
       "      <td>12.862054</td>\n",
       "      <td>5.922035e+05</td>\n",
       "    </tr>\n",
       "    <tr>\n",
       "      <th>min</th>\n",
       "      <td>0.000000</td>\n",
       "      <td>0.000000e+00</td>\n",
       "    </tr>\n",
       "    <tr>\n",
       "      <th>25%</th>\n",
       "      <td>26.289250</td>\n",
       "      <td>2.512000e+05</td>\n",
       "    </tr>\n",
       "    <tr>\n",
       "      <th>50%</th>\n",
       "      <td>32.522400</td>\n",
       "      <td>4.141000e+05</td>\n",
       "    </tr>\n",
       "    <tr>\n",
       "      <th>75%</th>\n",
       "      <td>44.044900</td>\n",
       "      <td>6.444000e+05</td>\n",
       "    </tr>\n",
       "    <tr>\n",
       "      <th>max</th>\n",
       "      <td>75.770000</td>\n",
       "      <td>1.482520e+07</td>\n",
       "    </tr>\n",
       "  </tbody>\n",
       "</table>\n",
       "</div>"
      ],
      "text/plain": [
       "             price        volume\n",
       "count  5019.000000  5.019000e+03\n",
       "mean   35.577743    5.293163e+05\n",
       "std    12.862054    5.922035e+05\n",
       "min    0.000000     0.000000e+00\n",
       "25%    26.289250    2.512000e+05\n",
       "50%    32.522400    4.141000e+05\n",
       "75%    44.044900    6.444000e+05\n",
       "max    75.770000    1.482520e+07"
      ]
     },
     "execution_count": 13,
     "metadata": {},
     "output_type": "execute_result"
    }
   ],
   "source": [
    "loblaw.describe()"
   ]
  },
  {
   "cell_type": "code",
   "execution_count": 14,
   "metadata": {},
   "outputs": [
    {
     "data": {
      "text/html": [
       "<div>\n",
       "<style scoped>\n",
       "    .dataframe tbody tr th:only-of-type {\n",
       "        vertical-align: middle;\n",
       "    }\n",
       "\n",
       "    .dataframe tbody tr th {\n",
       "        vertical-align: top;\n",
       "    }\n",
       "\n",
       "    .dataframe thead th {\n",
       "        text-align: right;\n",
       "    }\n",
       "</style>\n",
       "<table border=\"1\" class=\"dataframe\">\n",
       "  <thead>\n",
       "    <tr style=\"text-align: right;\">\n",
       "      <th></th>\n",
       "      <th>price</th>\n",
       "      <th>volume</th>\n",
       "    </tr>\n",
       "    <tr>\n",
       "      <th>date</th>\n",
       "      <th></th>\n",
       "      <th></th>\n",
       "    </tr>\n",
       "  </thead>\n",
       "  <tbody>\n",
       "    <tr>\n",
       "      <th>2004-12-28</th>\n",
       "      <td>0.0</td>\n",
       "      <td>0</td>\n",
       "    </tr>\n",
       "    <tr>\n",
       "      <th>2004-12-27</th>\n",
       "      <td>0.0</td>\n",
       "      <td>0</td>\n",
       "    </tr>\n",
       "    <tr>\n",
       "      <th>2004-10-11</th>\n",
       "      <td>0.0</td>\n",
       "      <td>0</td>\n",
       "    </tr>\n",
       "    <tr>\n",
       "      <th>2004-09-06</th>\n",
       "      <td>0.0</td>\n",
       "      <td>0</td>\n",
       "    </tr>\n",
       "    <tr>\n",
       "      <th>2004-08-02</th>\n",
       "      <td>0.0</td>\n",
       "      <td>0</td>\n",
       "    </tr>\n",
       "    <tr>\n",
       "      <th>2004-07-01</th>\n",
       "      <td>0.0</td>\n",
       "      <td>0</td>\n",
       "    </tr>\n",
       "    <tr>\n",
       "      <th>2004-05-24</th>\n",
       "      <td>0.0</td>\n",
       "      <td>0</td>\n",
       "    </tr>\n",
       "    <tr>\n",
       "      <th>2004-04-09</th>\n",
       "      <td>0.0</td>\n",
       "      <td>0</td>\n",
       "    </tr>\n",
       "    <tr>\n",
       "      <th>2004-01-01</th>\n",
       "      <td>0.0</td>\n",
       "      <td>0</td>\n",
       "    </tr>\n",
       "    <tr>\n",
       "      <th>2003-12-25</th>\n",
       "      <td>0.0</td>\n",
       "      <td>0</td>\n",
       "    </tr>\n",
       "    <tr>\n",
       "      <th>2003-10-13</th>\n",
       "      <td>0.0</td>\n",
       "      <td>0</td>\n",
       "    </tr>\n",
       "    <tr>\n",
       "      <th>2003-09-01</th>\n",
       "      <td>0.0</td>\n",
       "      <td>0</td>\n",
       "    </tr>\n",
       "    <tr>\n",
       "      <th>2003-08-04</th>\n",
       "      <td>0.0</td>\n",
       "      <td>0</td>\n",
       "    </tr>\n",
       "    <tr>\n",
       "      <th>2003-07-01</th>\n",
       "      <td>0.0</td>\n",
       "      <td>0</td>\n",
       "    </tr>\n",
       "    <tr>\n",
       "      <th>2003-05-19</th>\n",
       "      <td>0.0</td>\n",
       "      <td>0</td>\n",
       "    </tr>\n",
       "    <tr>\n",
       "      <th>2003-04-18</th>\n",
       "      <td>0.0</td>\n",
       "      <td>0</td>\n",
       "    </tr>\n",
       "    <tr>\n",
       "      <th>2003-01-01</th>\n",
       "      <td>0.0</td>\n",
       "      <td>0</td>\n",
       "    </tr>\n",
       "    <tr>\n",
       "      <th>2002-12-26</th>\n",
       "      <td>0.0</td>\n",
       "      <td>0</td>\n",
       "    </tr>\n",
       "    <tr>\n",
       "      <th>2002-12-25</th>\n",
       "      <td>0.0</td>\n",
       "      <td>0</td>\n",
       "    </tr>\n",
       "    <tr>\n",
       "      <th>2002-10-14</th>\n",
       "      <td>0.0</td>\n",
       "      <td>0</td>\n",
       "    </tr>\n",
       "    <tr>\n",
       "      <th>2002-09-02</th>\n",
       "      <td>0.0</td>\n",
       "      <td>0</td>\n",
       "    </tr>\n",
       "    <tr>\n",
       "      <th>2002-08-05</th>\n",
       "      <td>0.0</td>\n",
       "      <td>0</td>\n",
       "    </tr>\n",
       "    <tr>\n",
       "      <th>2002-07-01</th>\n",
       "      <td>0.0</td>\n",
       "      <td>0</td>\n",
       "    </tr>\n",
       "    <tr>\n",
       "      <th>2002-05-20</th>\n",
       "      <td>0.0</td>\n",
       "      <td>0</td>\n",
       "    </tr>\n",
       "    <tr>\n",
       "      <th>2002-03-29</th>\n",
       "      <td>0.0</td>\n",
       "      <td>0</td>\n",
       "    </tr>\n",
       "    <tr>\n",
       "      <th>2002-01-01</th>\n",
       "      <td>0.0</td>\n",
       "      <td>0</td>\n",
       "    </tr>\n",
       "    <tr>\n",
       "      <th>2001-12-26</th>\n",
       "      <td>0.0</td>\n",
       "      <td>0</td>\n",
       "    </tr>\n",
       "    <tr>\n",
       "      <th>2001-12-25</th>\n",
       "      <td>0.0</td>\n",
       "      <td>0</td>\n",
       "    </tr>\n",
       "    <tr>\n",
       "      <th>2001-10-08</th>\n",
       "      <td>0.0</td>\n",
       "      <td>0</td>\n",
       "    </tr>\n",
       "    <tr>\n",
       "      <th>2001-09-12</th>\n",
       "      <td>0.0</td>\n",
       "      <td>0</td>\n",
       "    </tr>\n",
       "    <tr>\n",
       "      <th>2001-09-11</th>\n",
       "      <td>0.0</td>\n",
       "      <td>0</td>\n",
       "    </tr>\n",
       "    <tr>\n",
       "      <th>2001-09-03</th>\n",
       "      <td>0.0</td>\n",
       "      <td>0</td>\n",
       "    </tr>\n",
       "    <tr>\n",
       "      <th>2001-08-06</th>\n",
       "      <td>0.0</td>\n",
       "      <td>0</td>\n",
       "    </tr>\n",
       "    <tr>\n",
       "      <th>2001-07-02</th>\n",
       "      <td>0.0</td>\n",
       "      <td>0</td>\n",
       "    </tr>\n",
       "    <tr>\n",
       "      <th>2001-05-21</th>\n",
       "      <td>0.0</td>\n",
       "      <td>0</td>\n",
       "    </tr>\n",
       "    <tr>\n",
       "      <th>2001-04-13</th>\n",
       "      <td>0.0</td>\n",
       "      <td>0</td>\n",
       "    </tr>\n",
       "    <tr>\n",
       "      <th>2001-01-01</th>\n",
       "      <td>0.0</td>\n",
       "      <td>0</td>\n",
       "    </tr>\n",
       "    <tr>\n",
       "      <th>2000-12-26</th>\n",
       "      <td>0.0</td>\n",
       "      <td>0</td>\n",
       "    </tr>\n",
       "    <tr>\n",
       "      <th>2000-12-25</th>\n",
       "      <td>0.0</td>\n",
       "      <td>0</td>\n",
       "    </tr>\n",
       "    <tr>\n",
       "      <th>2000-10-09</th>\n",
       "      <td>0.0</td>\n",
       "      <td>0</td>\n",
       "    </tr>\n",
       "    <tr>\n",
       "      <th>2000-09-04</th>\n",
       "      <td>0.0</td>\n",
       "      <td>0</td>\n",
       "    </tr>\n",
       "    <tr>\n",
       "      <th>2000-08-07</th>\n",
       "      <td>0.0</td>\n",
       "      <td>0</td>\n",
       "    </tr>\n",
       "    <tr>\n",
       "      <th>2000-07-03</th>\n",
       "      <td>0.0</td>\n",
       "      <td>0</td>\n",
       "    </tr>\n",
       "    <tr>\n",
       "      <th>2000-05-22</th>\n",
       "      <td>0.0</td>\n",
       "      <td>0</td>\n",
       "    </tr>\n",
       "    <tr>\n",
       "      <th>2000-04-21</th>\n",
       "      <td>0.0</td>\n",
       "      <td>0</td>\n",
       "    </tr>\n",
       "  </tbody>\n",
       "</table>\n",
       "</div>"
      ],
      "text/plain": [
       "            price  volume\n",
       "date                     \n",
       "2004-12-28  0.0    0     \n",
       "2004-12-27  0.0    0     \n",
       "2004-10-11  0.0    0     \n",
       "2004-09-06  0.0    0     \n",
       "2004-08-02  0.0    0     \n",
       "2004-07-01  0.0    0     \n",
       "2004-05-24  0.0    0     \n",
       "2004-04-09  0.0    0     \n",
       "2004-01-01  0.0    0     \n",
       "2003-12-25  0.0    0     \n",
       "2003-10-13  0.0    0     \n",
       "2003-09-01  0.0    0     \n",
       "2003-08-04  0.0    0     \n",
       "2003-07-01  0.0    0     \n",
       "2003-05-19  0.0    0     \n",
       "2003-04-18  0.0    0     \n",
       "2003-01-01  0.0    0     \n",
       "2002-12-26  0.0    0     \n",
       "2002-12-25  0.0    0     \n",
       "2002-10-14  0.0    0     \n",
       "2002-09-02  0.0    0     \n",
       "2002-08-05  0.0    0     \n",
       "2002-07-01  0.0    0     \n",
       "2002-05-20  0.0    0     \n",
       "2002-03-29  0.0    0     \n",
       "2002-01-01  0.0    0     \n",
       "2001-12-26  0.0    0     \n",
       "2001-12-25  0.0    0     \n",
       "2001-10-08  0.0    0     \n",
       "2001-09-12  0.0    0     \n",
       "2001-09-11  0.0    0     \n",
       "2001-09-03  0.0    0     \n",
       "2001-08-06  0.0    0     \n",
       "2001-07-02  0.0    0     \n",
       "2001-05-21  0.0    0     \n",
       "2001-04-13  0.0    0     \n",
       "2001-01-01  0.0    0     \n",
       "2000-12-26  0.0    0     \n",
       "2000-12-25  0.0    0     \n",
       "2000-10-09  0.0    0     \n",
       "2000-09-04  0.0    0     \n",
       "2000-08-07  0.0    0     \n",
       "2000-07-03  0.0    0     \n",
       "2000-05-22  0.0    0     \n",
       "2000-04-21  0.0    0     "
      ]
     },
     "execution_count": 14,
     "metadata": {},
     "output_type": "execute_result"
    }
   ],
   "source": [
    "loblaw[loblaw.price == 0]"
   ]
  },
  {
   "cell_type": "code",
   "execution_count": 18,
   "metadata": {},
   "outputs": [],
   "source": [
    "loblaw.to_csv(\"loblaw.csv\")\n",
    "metro.to_csv(\"metro.csv\")\n",
    "empa.to_csv(\"empa.csv\")\n",
    "gwl.to_csv(\"gwl.csv\")\n",
    "atd.to_csv(\"atd.csv\")\n",
    "tsx.to_csv(\"tsx.csv\")\n",
    "sp500.to_csv(\"sp500.csv\")"
   ]
  },
  {
   "cell_type": "markdown",
   "metadata": {},
   "source": [
    "#### 3. Get the important indices"
   ]
  },
  {
   "cell_type": "markdown",
   "metadata": {},
   "source": [
    "We can find the major economical indices through the API of bank of canada.   \n",
    "https://www.bankofcanada.ca/valet/docs  \n",
    "  \n",
    "base url = \"https://www.bankofcanada.ca/valet/\"\n",
    "\n",
    "To get the list of all groups: base url + \"/lists/groups\"  \n",
    "To get the list of all series: base url + \"/lists/series\"  \n",
    "To get the list of all series in a group: base url + \"groups/groupname\"  \n",
    "To get the date from a series: base url + \"observations/seriesname\"  \n",
    "\n",
    "Search for the key words in the group list, get the details, and retrieve the data using series name.\n",
    "\n",
    "We use the following indices:  \n",
    "series      |   groupname           |   description             |   date      \n",
    "FXUSDCAD    | FX_RATES_DAILY        |USD/CAD exchange rate  | 2017-1-1, 2019-10-11  \n",
    "IEXE0102    | LEGACY_CLOSING_RATES  |USD/CAD exchange rate  | 2007-5-1, 2019-4-30  \n",
    "V80691311   | CHARTED_BANK_INTEREST |prime rate             | 2000-1-1, 2019-10-11  \n",
    "V41690973   | CPI_MONTHLY           |consumer price index   | 2000-1, 2019-8  \n",
    "W.BCPI      | BCPI_WEEKLY           |business CPI           | 2000-1-1, 2019-9-25\n",
    "\n",
    "CEER - Canadian-dollar Effective Exchange Rate, formerly CERI - Canadian-dollar Effective Exchange Rate Index, was downloaded seperately from Bank of Canada website.  (1999-1-1 , 2019-10-11)\n",
    "\n",
    "https://www.bankofcanada.ca/rates/exchange/canadian-effective-exchange-rates/#Overview\n"
   ]
  },
  {
   "cell_type": "code",
   "execution_count": 19,
   "metadata": {},
   "outputs": [],
   "source": [
    "r = requests.get(\"https://www.bankofcanada.ca/valet/lists/groups/json\")\n",
    "grouplist = pd.DataFrame(r.json()['groups']).transpose()"
   ]
  },
  {
   "cell_type": "code",
   "execution_count": 20,
   "metadata": {},
   "outputs": [
    {
     "data": {
      "text/html": [
       "<div>\n",
       "<style scoped>\n",
       "    .dataframe tbody tr th:only-of-type {\n",
       "        vertical-align: middle;\n",
       "    }\n",
       "\n",
       "    .dataframe tbody tr th {\n",
       "        vertical-align: top;\n",
       "    }\n",
       "\n",
       "    .dataframe thead th {\n",
       "        text-align: right;\n",
       "    }\n",
       "</style>\n",
       "<table border=\"1\" class=\"dataframe\">\n",
       "  <thead>\n",
       "    <tr style=\"text-align: right;\">\n",
       "      <th></th>\n",
       "      <th>label</th>\n",
       "      <th>link</th>\n",
       "    </tr>\n",
       "  </thead>\n",
       "  <tbody>\n",
       "    <tr>\n",
       "      <th>FX_RATES_RECIPROCAL</th>\n",
       "      <td>Daily reciprocal exchange rates</td>\n",
       "      <td>https://www.bankofcanada.ca/valet/groups/FX_RATES_RECIPROCAL</td>\n",
       "    </tr>\n",
       "    <tr>\n",
       "      <th>FX_RATES_DAILY</th>\n",
       "      <td>Daily exchange rates</td>\n",
       "      <td>https://www.bankofcanada.ca/valet/groups/FX_RATES_DAILY</td>\n",
       "    </tr>\n",
       "    <tr>\n",
       "      <th>FX_RATES_MONTHLY</th>\n",
       "      <td>Monthly exchange rates</td>\n",
       "      <td>https://www.bankofcanada.ca/valet/groups/FX_RATES_MONTHLY</td>\n",
       "    </tr>\n",
       "    <tr>\n",
       "      <th>FX_RATES_ANNUAL</th>\n",
       "      <td>Annual exchange rates</td>\n",
       "      <td>https://www.bankofcanada.ca/valet/groups/FX_RATES_ANNUAL</td>\n",
       "    </tr>\n",
       "    <tr>\n",
       "      <th>SWP-USCANPFX</th>\n",
       "      <td>U.S. / CAD nominal exchange rate</td>\n",
       "      <td>https://www.bankofcanada.ca/valet/groups/SWP-USCANPFX</td>\n",
       "    </tr>\n",
       "    <tr>\n",
       "      <th>SAN_JABS20181014</th>\n",
       "      <td>The Impact of Surprising Monetary Policy Announcements on Exchange Rate Volatility</td>\n",
       "      <td>https://www.bankofcanada.ca/valet/groups/SAN_JABS20181014</td>\n",
       "    </tr>\n",
       "    <tr>\n",
       "      <th>SAN_AROO20190815</th>\n",
       "      <td>Using Exchange-Traded Funds to Measure Liquidity in the Canadian Corporate Bond Market</td>\n",
       "      <td>https://www.bankofcanada.ca/valet/groups/SAN_AROO20190815</td>\n",
       "    </tr>\n",
       "    <tr>\n",
       "      <th>FX_RATES_DAILY_CURRENT</th>\n",
       "      <td>Daily exchange rates</td>\n",
       "      <td>https://www.bankofcanada.ca/valet/groups/FX_RATES_DAILY_CURRENT</td>\n",
       "    </tr>\n",
       "  </tbody>\n",
       "</table>\n",
       "</div>"
      ],
      "text/plain": [
       "                                                                                                         label                                                             link\n",
       "FX_RATES_RECIPROCAL     Daily reciprocal exchange rates                                                         https://www.bankofcanada.ca/valet/groups/FX_RATES_RECIPROCAL   \n",
       "FX_RATES_DAILY          Daily exchange rates                                                                    https://www.bankofcanada.ca/valet/groups/FX_RATES_DAILY        \n",
       "FX_RATES_MONTHLY        Monthly exchange rates                                                                  https://www.bankofcanada.ca/valet/groups/FX_RATES_MONTHLY      \n",
       "FX_RATES_ANNUAL         Annual exchange rates                                                                   https://www.bankofcanada.ca/valet/groups/FX_RATES_ANNUAL       \n",
       "SWP-USCANPFX            U.S. / CAD nominal exchange rate                                                        https://www.bankofcanada.ca/valet/groups/SWP-USCANPFX          \n",
       "SAN_JABS20181014        The Impact of Surprising Monetary Policy Announcements on Exchange Rate Volatility      https://www.bankofcanada.ca/valet/groups/SAN_JABS20181014      \n",
       "SAN_AROO20190815        Using Exchange-Traded Funds to Measure Liquidity in the Canadian Corporate Bond Market  https://www.bankofcanada.ca/valet/groups/SAN_AROO20190815      \n",
       "FX_RATES_DAILY_CURRENT  Daily exchange rates                                                                    https://www.bankofcanada.ca/valet/groups/FX_RATES_DAILY_CURRENT"
      ]
     },
     "execution_count": 20,
     "metadata": {},
     "output_type": "execute_result"
    }
   ],
   "source": [
    "grouplist[grouplist['label'].str.contains('exchange', case=False)]"
   ]
  },
  {
   "cell_type": "code",
   "execution_count": 21,
   "metadata": {},
   "outputs": [
    {
     "data": {
      "text/html": [
       "<div>\n",
       "<style scoped>\n",
       "    .dataframe tbody tr th:only-of-type {\n",
       "        vertical-align: middle;\n",
       "    }\n",
       "\n",
       "    .dataframe tbody tr th {\n",
       "        vertical-align: top;\n",
       "    }\n",
       "\n",
       "    .dataframe thead th {\n",
       "        text-align: right;\n",
       "    }\n",
       "</style>\n",
       "<table border=\"1\" class=\"dataframe\">\n",
       "  <thead>\n",
       "    <tr style=\"text-align: right;\">\n",
       "      <th></th>\n",
       "      <th>name</th>\n",
       "      <th>label</th>\n",
       "      <th>description</th>\n",
       "      <th>groupSeries</th>\n",
       "    </tr>\n",
       "  </thead>\n",
       "  <tbody>\n",
       "    <tr>\n",
       "      <th>FXAUDCAD</th>\n",
       "      <td>FX_RATES_DAILY</td>\n",
       "      <td>Daily exchange rates</td>\n",
       "      <td>Daily average exchange rates - published once each business day by 16:30 ET. All Bank of Canada exchange rates are indicative rates only.</td>\n",
       "      <td>{'label': 'AUD/CAD', 'link': 'https://www.bankofcanada.ca/valet/series/FXAUDCAD'}</td>\n",
       "    </tr>\n",
       "    <tr>\n",
       "      <th>FXBRLCAD</th>\n",
       "      <td>FX_RATES_DAILY</td>\n",
       "      <td>Daily exchange rates</td>\n",
       "      <td>Daily average exchange rates - published once each business day by 16:30 ET. All Bank of Canada exchange rates are indicative rates only.</td>\n",
       "      <td>{'label': 'BRL/CAD', 'link': 'https://www.bankofcanada.ca/valet/series/FXBRLCAD'}</td>\n",
       "    </tr>\n",
       "    <tr>\n",
       "      <th>FXCHFCAD</th>\n",
       "      <td>FX_RATES_DAILY</td>\n",
       "      <td>Daily exchange rates</td>\n",
       "      <td>Daily average exchange rates - published once each business day by 16:30 ET. All Bank of Canada exchange rates are indicative rates only.</td>\n",
       "      <td>{'label': 'CHF/CAD', 'link': 'https://www.bankofcanada.ca/valet/series/FXCHFCAD'}</td>\n",
       "    </tr>\n",
       "    <tr>\n",
       "      <th>FXCNYCAD</th>\n",
       "      <td>FX_RATES_DAILY</td>\n",
       "      <td>Daily exchange rates</td>\n",
       "      <td>Daily average exchange rates - published once each business day by 16:30 ET. All Bank of Canada exchange rates are indicative rates only.</td>\n",
       "      <td>{'label': 'CNY/CAD', 'link': 'https://www.bankofcanada.ca/valet/series/FXCNYCAD'}</td>\n",
       "    </tr>\n",
       "    <tr>\n",
       "      <th>FXEURCAD</th>\n",
       "      <td>FX_RATES_DAILY</td>\n",
       "      <td>Daily exchange rates</td>\n",
       "      <td>Daily average exchange rates - published once each business day by 16:30 ET. All Bank of Canada exchange rates are indicative rates only.</td>\n",
       "      <td>{'label': 'EUR/CAD', 'link': 'https://www.bankofcanada.ca/valet/series/FXEURCAD'}</td>\n",
       "    </tr>\n",
       "  </tbody>\n",
       "</table>\n",
       "</div>"
      ],
      "text/plain": [
       "                    name                 label                                                                                                                                description                                                                        groupSeries\n",
       "FXAUDCAD  FX_RATES_DAILY  Daily exchange rates  Daily average exchange rates - published once each business day by 16:30 ET. All Bank of Canada exchange rates are indicative rates only.  {'label': 'AUD/CAD', 'link': 'https://www.bankofcanada.ca/valet/series/FXAUDCAD'}\n",
       "FXBRLCAD  FX_RATES_DAILY  Daily exchange rates  Daily average exchange rates - published once each business day by 16:30 ET. All Bank of Canada exchange rates are indicative rates only.  {'label': 'BRL/CAD', 'link': 'https://www.bankofcanada.ca/valet/series/FXBRLCAD'}\n",
       "FXCHFCAD  FX_RATES_DAILY  Daily exchange rates  Daily average exchange rates - published once each business day by 16:30 ET. All Bank of Canada exchange rates are indicative rates only.  {'label': 'CHF/CAD', 'link': 'https://www.bankofcanada.ca/valet/series/FXCHFCAD'}\n",
       "FXCNYCAD  FX_RATES_DAILY  Daily exchange rates  Daily average exchange rates - published once each business day by 16:30 ET. All Bank of Canada exchange rates are indicative rates only.  {'label': 'CNY/CAD', 'link': 'https://www.bankofcanada.ca/valet/series/FXCNYCAD'}\n",
       "FXEURCAD  FX_RATES_DAILY  Daily exchange rates  Daily average exchange rates - published once each business day by 16:30 ET. All Bank of Canada exchange rates are indicative rates only.  {'label': 'EUR/CAD', 'link': 'https://www.bankofcanada.ca/valet/series/FXEURCAD'}"
      ]
     },
     "execution_count": 21,
     "metadata": {},
     "output_type": "execute_result"
    }
   ],
   "source": [
    "group_name = \"FX_RATES_DAILY\"\n",
    "r = requests.get(\"https://www.bankofcanada.ca/valet/groups/{}/json\".format(group_name))\n",
    "pd.DataFrame(r.json()['groupDetails']).head()"
   ]
  },
  {
   "cell_type": "code",
   "execution_count": 12,
   "metadata": {},
   "outputs": [
    {
     "name": "stdout",
     "output_type": "stream",
     "text": [
      "BCPI\n",
      "date              \n",
      "2019-09-25  432.33\n",
      "2019-09-18  433.06\n",
      "2019-09-11  428.60\n",
      "2019-09-04  421.88\n",
      "2019-08-28  417.90\n",
      "              BCPI\n",
      "date              \n",
      "2000-02-02  305.83\n",
      "2000-01-26  302.82\n",
      "2000-01-19  295.11\n",
      "2000-01-12  284.80\n",
      "2000-01-05  284.90\n"
     ]
    }
   ],
   "source": [
    "symbol = \"W.BCPI\"\n",
    "start = date(2000,1,1)\n",
    "end = date(2019,9,30)\n",
    "reader = BankOfCanadaReader(symbol, start = start, end = end)\n",
    "BCPI = reader.read()\n",
    "BCPI.index.name = 'date'\n",
    "BCPI.columns = ['BCPI']\n",
    "print(BCPI.head())\n",
    "print(BCPI.tail())"
   ]
  },
  {
   "cell_type": "code",
   "execution_count": 13,
   "metadata": {},
   "outputs": [],
   "source": [
    "BCPI.to_csv(\"BCPI.csv\")"
   ]
  },
  {
   "cell_type": "code",
   "execution_count": 14,
   "metadata": {},
   "outputs": [
    {
     "name": "stdout",
     "output_type": "stream",
     "text": [
      "CPI\n",
      "date             \n",
      "2019-09-01  136.2\n",
      "2019-08-01  136.8\n",
      "2019-07-01  137.0\n",
      "2019-06-01  136.3\n",
      "2019-05-01  136.6\n",
      "             CPI\n",
      "date            \n",
      "2000-05-01  94.9\n",
      "2000-04-01  94.5\n",
      "2000-03-01  94.8\n",
      "2000-02-01  94.1\n",
      "2000-01-01  93.5\n"
     ]
    }
   ],
   "source": [
    "symbol = \"V41690973\"\n",
    "start = date(2000,1,1)\n",
    "end = date(2019,9,30)\n",
    "reader = BankOfCanadaReader(symbol, start = start, end = end)\n",
    "CPI = reader.read()\n",
    "CPI.index.name = 'date'\n",
    "CPI.columns = ['CPI']\n",
    "print(CPI.head())\n",
    "print(CPI.tail())"
   ]
  },
  {
   "cell_type": "code",
   "execution_count": 15,
   "metadata": {},
   "outputs": [],
   "source": [
    "CPI.to_csv(\"CPI.csv\")"
   ]
  },
  {
   "cell_type": "code",
   "execution_count": 16,
   "metadata": {},
   "outputs": [
    {
     "name": "stdout",
     "output_type": "stream",
     "text": [
      "bank_interest\n",
      "date                     \n",
      "2019-09-25  3.95         \n",
      "2019-09-18  3.95         \n",
      "2019-09-11  3.95         \n",
      "2019-09-04  3.95         \n",
      "2019-08-28  3.95         \n",
      "            bank_interest\n",
      "date                     \n",
      "2000-02-02  6.5          \n",
      "2000-01-26  6.5          \n",
      "2000-01-19  6.5          \n",
      "2000-01-12  6.5          \n",
      "2000-01-05  6.5          \n"
     ]
    }
   ],
   "source": [
    "symbol = \"V80691311\"\n",
    "start = date(2000,1,1)\n",
    "end = date(2019,9,30)\n",
    "reader = BankOfCanadaReader(symbol, start = start, end = end)\n",
    "bank_interest = reader.read()\n",
    "bank_interest.index.name = 'date'\n",
    "bank_interest.columns = ['bank_interest']\n",
    "print(bank_interest.head())\n",
    "print(bank_interest.tail())"
   ]
  },
  {
   "cell_type": "code",
   "execution_count": 17,
   "metadata": {},
   "outputs": [],
   "source": [
    "bank_interest.to_csv(\"bank_interest.csv\")"
   ]
  },
  {
   "cell_type": "code",
   "execution_count": 38,
   "metadata": {},
   "outputs": [
    {
     "name": "stdout",
     "output_type": "stream",
     "text": [
      "CEER\n",
      "date             \n",
      "1999-01-01  95.43\n",
      "1999-01-04  95.47\n",
      "1999-01-05  95.84\n",
      "1999-01-06  96.66\n",
      "1999-01-07  96.46\n",
      "              CEER\n",
      "date              \n",
      "2019-10-07  117.16\n",
      "2019-10-08  117.08\n",
      "2019-10-09  117.03\n",
      "2019-10-10  117.15\n",
      "2019-10-11  117.75\n"
     ]
    }
   ],
   "source": [
    "CEER = pd.read_csv(\"CEER.csv\", parse_dates=['date'], index_col='date')\n",
    "CEER.columns = ['CEER']\n",
    "print(CEER.head())\n",
    "print(CEER.tail())"
   ]
  },
  {
   "cell_type": "code",
   "execution_count": 39,
   "metadata": {},
   "outputs": [],
   "source": [
    "CEER.to_csv(\"CEER.csv\")"
   ]
  },
  {
   "cell_type": "markdown",
   "metadata": {},
   "source": [
    "#### 4. Get google trend data"
   ]
  },
  {
   "cell_type": "markdown",
   "metadata": {},
   "source": [
    "Here we downloaded google trend data manually. We will change it to using pytrend package in the future.  \n",
    "The keywords are: grocery store, loblaws, stock\n"
   ]
  },
  {
   "cell_type": "code",
   "execution_count": 18,
   "metadata": {},
   "outputs": [
    {
     "name": "stdout",
     "output_type": "stream",
     "text": [
      "trend_grocery_store\n",
      "date                           \n",
      "2004-01-01  47                 \n",
      "2004-02-01  44                 \n",
      "2004-03-01  41                 \n",
      "2004-04-01  39                 \n",
      "2004-05-01  40                 \n",
      "            trend_grocery_store\n",
      "date                           \n",
      "2019-06-01  85                 \n",
      "2019-07-01  98                 \n",
      "2019-08-01  100                \n",
      "2019-09-01  87                 \n",
      "2019-10-01  80                 \n"
     ]
    }
   ],
   "source": [
    "trend_grocery_store = pd.read_csv(\"trend_grocery_store.csv\", parse_dates=['Month'], index_col = 'Month')\n",
    "trend_grocery_store.index.name = 'date'\n",
    "trend_grocery_store.columns = ['trend_grocery_store']\n",
    "print(trend_grocery_store.head())\n",
    "print(trend_grocery_store.tail())"
   ]
  },
  {
   "cell_type": "code",
   "execution_count": 19,
   "metadata": {},
   "outputs": [],
   "source": [
    "trend_grocery_store.to_csv(\"trend_grocery_store.csv\")"
   ]
  },
  {
   "cell_type": "code",
   "execution_count": 20,
   "metadata": {},
   "outputs": [
    {
     "name": "stdout",
     "output_type": "stream",
     "text": [
      "trend_loblaws\n",
      "date                     \n",
      "2004-01-01  27           \n",
      "2004-02-01  27           \n",
      "2004-03-01  24           \n",
      "2004-04-01  26           \n",
      "2004-05-01  29           \n",
      "            trend_loblaws\n",
      "date                     \n",
      "2019-06-01  37           \n",
      "2019-07-01  37           \n",
      "2019-08-01  37           \n",
      "2019-09-01  35           \n",
      "2019-10-01  34           \n"
     ]
    }
   ],
   "source": [
    "trend_loblaws = pd.read_csv(\"trend_loblaws.csv\", parse_dates=['Month'], index_col = 'Month')\n",
    "trend_loblaws.index.name = 'date'\n",
    "trend_loblaws.columns = ['trend_loblaws']\n",
    "print(trend_loblaws.head())\n",
    "print(trend_loblaws.tail())"
   ]
  },
  {
   "cell_type": "code",
   "execution_count": 21,
   "metadata": {},
   "outputs": [],
   "source": [
    "trend_loblaws.to_csv(\"trend_loblaws.csv\")"
   ]
  },
  {
   "cell_type": "code",
   "execution_count": 22,
   "metadata": {},
   "outputs": [
    {
     "name": "stdout",
     "output_type": "stream",
     "text": [
      "trend_stock\n",
      "date                   \n",
      "2004-01-01  17         \n",
      "2004-02-01  17         \n",
      "2004-03-01  15         \n",
      "2004-04-01  14         \n",
      "2004-05-01  13         \n",
      "            trend_stock\n",
      "date                   \n",
      "2019-06-01  65         \n",
      "2019-07-01  68         \n",
      "2019-08-01  74         \n",
      "2019-09-01  63         \n",
      "2019-10-01  64         \n"
     ]
    }
   ],
   "source": [
    "trend_stock = pd.read_csv(\"trend_stock.csv\", parse_dates=['Month'], index_col = 'Month')\n",
    "trend_stock.index.name = 'date'\n",
    "trend_stock.columns = ['trend_stock']\n",
    "print(trend_stock.head())\n",
    "print(trend_stock.tail())"
   ]
  },
  {
   "cell_type": "code",
   "execution_count": 23,
   "metadata": {},
   "outputs": [],
   "source": [
    "trend_stock.to_csv(\"trend_stock.csv\")"
   ]
  },
  {
   "cell_type": "code",
   "execution_count": null,
   "metadata": {},
   "outputs": [],
   "source": []
  }
 ],
 "metadata": {
  "file_extension": ".py",
  "kernelspec": {
   "display_name": "Python 3",
   "language": "python",
   "name": "python3"
  },
  "language_info": {
   "codemirror_mode": {
    "name": "ipython",
    "version": 3
   },
   "file_extension": ".py",
   "mimetype": "text/x-python",
   "name": "python",
   "nbconvert_exporter": "python",
   "pygments_lexer": "ipython3",
   "version": "3.7.3"
  },
  "mimetype": "text/x-python",
  "name": "python",
  "npconvert_exporter": "python",
  "pygments_lexer": "ipython3",
  "version": 3
 },
 "nbformat": 4,
 "nbformat_minor": 2
}
